{
 "cells": [
  {
   "cell_type": "code",
   "execution_count": 1,
   "id": "f442b6f5",
   "metadata": {},
   "outputs": [
    {
     "name": "stdout",
     "output_type": "stream",
     "text": [
      "WARNING:tensorflow:From /ereborfs/agarmanv/cnn_graph/lib/python3.8/site-packages/tensorflow/python/compat/v2_compat.py:107: disable_resource_variables (from tensorflow.python.ops.variable_scope) is deprecated and will be removed in a future version.\n",
      "Instructions for updating:\n",
      "non-resource variables are not supported in the long term\n"
     ]
    }
   ],
   "source": [
    "import numpy as np\n",
    "import os\n",
    "import matplotlib.pyplot as plt\n",
    "from lib import models, graph, coarsening, utils\n",
    "import scipy"
   ]
  },
  {
   "cell_type": "code",
   "execution_count": 2,
   "id": "c5e6aff1",
   "metadata": {},
   "outputs": [],
   "source": [
    "path = \"./data\""
   ]
  },
  {
   "cell_type": "code",
   "execution_count": 3,
   "id": "72cd357b",
   "metadata": {},
   "outputs": [],
   "source": [
    "train_data = np.load(os.path.join(path, \"train_apnea_data.npz\"))\n",
    "train_X, train_y = train_data['samples'], train_data['labels']"
   ]
  },
  {
   "cell_type": "code",
   "execution_count": 4,
   "id": "f48268a2",
   "metadata": {},
   "outputs": [
    {
     "data": {
      "text/plain": [
       "(15309, 6000)"
      ]
     },
     "execution_count": 4,
     "metadata": {},
     "output_type": "execute_result"
    }
   ],
   "source": [
    "train_X = np.transpose(train_X)\n",
    "train_X.shape"
   ]
  },
  {
   "cell_type": "code",
   "execution_count": 5,
   "id": "8635c593",
   "metadata": {},
   "outputs": [],
   "source": [
    "train_X = train_X.astype('float32')"
   ]
  },
  {
   "cell_type": "code",
   "execution_count": 6,
   "id": "c5eeda99",
   "metadata": {},
   "outputs": [],
   "source": [
    "test_data = np.load(os.path.join(path, \"test_apnea_data.npz\"))\n",
    "test_X, test_y = test_data['samples'], test_data['labels']"
   ]
  },
  {
   "cell_type": "code",
   "execution_count": 7,
   "id": "37f970af",
   "metadata": {},
   "outputs": [
    {
     "data": {
      "text/plain": [
       "(1701, 6000)"
      ]
     },
     "execution_count": 7,
     "metadata": {},
     "output_type": "execute_result"
    }
   ],
   "source": [
    "test_X = np.transpose(test_X)\n",
    "test_X.shape"
   ]
  },
  {
   "cell_type": "code",
   "execution_count": 8,
   "id": "a93dfee4",
   "metadata": {},
   "outputs": [],
   "source": [
    "test_X = test_X.astype('float32')"
   ]
  },
  {
   "cell_type": "code",
   "execution_count": 9,
   "id": "563017ba",
   "metadata": {},
   "outputs": [],
   "source": [
    "d = train_X.shape[-1]\n",
    "n = len(train_y) + len(test_y)"
   ]
  },
  {
   "cell_type": "code",
   "execution_count": 10,
   "id": "ee6da4de",
   "metadata": {},
   "outputs": [],
   "source": [
    "n_train = len(train_y)\n",
    "n_test = len(test_y)"
   ]
  },
  {
   "cell_type": "code",
   "execution_count": 11,
   "id": "ee76d84e",
   "metadata": {},
   "outputs": [],
   "source": [
    "A = np.load(os.path.join(path, \"A.npz\"))[\"A\"]"
   ]
  },
  {
   "cell_type": "code",
   "execution_count": 12,
   "id": "004b3214",
   "metadata": {},
   "outputs": [
    {
     "data": {
      "text/plain": [
       "(6000, 6000)"
      ]
     },
     "execution_count": 12,
     "metadata": {},
     "output_type": "execute_result"
    }
   ],
   "source": [
    "A.shape"
   ]
  },
  {
   "cell_type": "code",
   "execution_count": 11,
   "id": "21ae32e9",
   "metadata": {},
   "outputs": [],
   "source": [
    "def dist(a, b):\n",
    "  return np.square(a - b)"
   ]
  },
  {
   "cell_type": "code",
   "execution_count": 12,
   "id": "33ccf50b",
   "metadata": {},
   "outputs": [
    {
     "name": "stdout",
     "output_type": "stream",
     "text": [
      "0\n",
      "200\n",
      "400\n",
      "600\n",
      "800\n",
      "1000\n",
      "1200\n",
      "1400\n",
      "1600\n",
      "1800\n",
      "2000\n",
      "2200\n",
      "2400\n",
      "2600\n",
      "2800\n",
      "3000\n",
      "3200\n",
      "3400\n",
      "3600\n",
      "3800\n",
      "4000\n",
      "4200\n",
      "4400\n",
      "4600\n",
      "4800\n",
      "5000\n",
      "5200\n",
      "5400\n",
      "5600\n",
      "5800\n"
     ]
    }
   ],
   "source": [
    "# make adjacency matrix with some more information\n",
    "sigma_sq = 500.0\n",
    "A = np.zeros((d,d))\n",
    "for row_idx in range(d):\n",
    "  if row_idx % 200 == 0:\n",
    "    print(row_idx)\n",
    "  for col_idx in range(d):\n",
    "    if row_idx == col_idx:\n",
    "      A[row_idx][col_idx] = 0.0\n",
    "    else:\n",
    "      A[row_idx][col_idx] = np.exp((- dist(row_idx, col_idx)) / sigma_sq)"
   ]
  },
  {
   "cell_type": "code",
   "execution_count": 12,
   "id": "d6582a82",
   "metadata": {},
   "outputs": [
    {
     "data": {
      "text/plain": [
       "(6000, 6000)"
      ]
     },
     "execution_count": 12,
     "metadata": {},
     "output_type": "execute_result"
    }
   ],
   "source": [
    "A.shape"
   ]
  },
  {
   "cell_type": "code",
   "execution_count": 13,
   "id": "9c9a8a9d",
   "metadata": {},
   "outputs": [],
   "source": [
    "with open(os.path.join(path, \"A.npz\"), \"wb\") as f:\n",
    "    np.savez(f, A=A)"
   ]
  },
  {
   "cell_type": "code",
   "execution_count": 14,
   "id": "a25c8ddd",
   "metadata": {},
   "outputs": [
    {
     "data": {
      "text/plain": [
       "<matplotlib.image.AxesImage at 0x7ff48601b610>"
      ]
     },
     "execution_count": 14,
     "metadata": {},
     "output_type": "execute_result"
    },
    {
     "data": {
      "image/png": "[encoded data removed]",
      "text/plain": [
       "<Figure size 432x288 with 1 Axes>"
      ]
     },
     "metadata": {
      "needs_background": "light"
     },
     "output_type": "display_data"
    }
   ],
   "source": [
    "sub = A[:100, :100]\n",
    "plt.imshow(sub, vmin=0, vmax=1)"
   ]
  },
  {
   "cell_type": "code",
   "execution_count": 15,
   "id": "da9e5bae",
   "metadata": {},
   "outputs": [],
   "source": [
    "A = A.astype('float32')\n",
    "A = scipy.sparse.csr_matrix(A)"
   ]
  },
  {
   "cell_type": "code",
   "execution_count": 16,
   "id": "a2f9e323",
   "metadata": {},
   "outputs": [
    {
     "name": "stdout",
     "output_type": "stream",
     "text": [
      "Layer 0: M_0 = |V| = 6336 nodes (336 added),|E| = 1341894 edges\n",
      "Layer 1: M_1 = |V| = 3168 nodes (164 added),|E| = 339268 edges\n",
      "Layer 2: M_2 = |V| = 1584 nodes (78 added),|E| = 86860 edges\n",
      "Layer 3: M_3 = |V| = 792 nodes (35 added),|E| = 22753 edges\n",
      "Layer 4: M_4 = |V| = 396 nodes (16 added),|E| = 6139 edges\n",
      "Layer 5: M_5 = |V| = 198 nodes (5 added),|E| = 1757 edges\n",
      "Layer 6: M_6 = |V| = 99 nodes (0 added),|E| = 546 edges\n"
     ]
    }
   ],
   "source": [
    "# Coarsening\n",
    "graphs, perm = coarsening.coarsen(A, levels=6, self_connections=False)\n",
    "\n",
    "X_train = coarsening.perm_data(train_X, perm)\n",
    "# X_val = coarsening.perm_data(X_val, perm)\n",
    "X_test = coarsening.perm_data(test_X, perm)"
   ]
  },
  {
   "cell_type": "code",
   "execution_count": 17,
   "id": "97d66d85",
   "metadata": {},
   "outputs": [
    {
     "name": "stdout",
     "output_type": "stream",
     "text": [
      "Computing laplacian...\n",
      "Computing laplacian...\n",
      "Computing laplacian...\n",
      "Computing laplacian...\n",
      "Computing laplacian...\n",
      "Computing laplacian...\n",
      "Computing laplacian...\n"
     ]
    }
   ],
   "source": [
    "L = [graph.laplacian(A, normalized=True) for A in graphs]"
   ]
  },
  {
   "cell_type": "code",
   "execution_count": 18,
   "id": "644d5e98",
   "metadata": {},
   "outputs": [],
   "source": [
    "# Number of classes.\n",
    "C = train_y.max() + 1\n",
    "assert C == np.unique(train_y).size"
   ]
  },
  {
   "cell_type": "code",
   "execution_count": 19,
   "id": "858d699d",
   "metadata": {},
   "outputs": [
    {
     "data": {
      "text/plain": [
       "2"
      ]
     },
     "execution_count": 19,
     "metadata": {},
     "output_type": "execute_result"
    }
   ],
   "source": [
    "C"
   ]
  },
  {
   "cell_type": "code",
   "execution_count": 20,
   "id": "9f3c1c3d",
   "metadata": {},
   "outputs": [],
   "source": [
    "params = dict()\n",
    "params['dir_name']       = 'demo'\n",
    "params['num_epochs']     = 100\n",
    "params['batch_size']     = 256\n",
    "params['eval_frequency'] = 120\n",
    "\n",
    "# Building blocks.\n",
    "params['filter']         = 'chebyshev5'\n",
    "params['brelu']          = 'b1relu'\n",
    "params['pool']           = 'apool1'\n",
    "\n",
    "# Architecture.\n",
    "params['F']              = [32, 32, 32]  # Number of graph convolutional filters.\n",
    "params['K']              = [20, 20, 20]  # Polynomial orders.\n",
    "params['p']              = [4, 4, 4]    # Pooling sizes.\n",
    "params['M']              = [512, C]  # Output dimensionality of fully connected layers.\n",
    "\n",
    "# Optimization.\n",
    "params['regularization'] = 5e-4\n",
    "params['dropout']        = 1\n",
    "params['learning_rate']  = 1e-3\n",
    "params['decay_rate']     = 0.95\n",
    "params['momentum']       = 0.9\n",
    "params['decay_steps']    = n_train / params['batch_size']"
   ]
  },
  {
   "cell_type": "code",
   "execution_count": null,
   "id": "f46fe3c4",
   "metadata": {
    "scrolled": false
   },
   "outputs": [
    {
     "name": "stdout",
     "output_type": "stream",
     "text": [
      "NN architecture\n",
      "  input: M_0 = 6336\n",
      "  layer 1: cgconv1\n",
      "    representation: M_0 * F_1 / p_1 = 6336 * 32 / 4 = 50688\n",
      "    weights: F_0 * F_1 * K_1 = 1 * 32 * 20 = 640\n",
      "    biases: F_1 = 32\n",
      "  layer 2: cgconv2\n",
      "    representation: M_1 * F_2 / p_2 = 1584 * 32 / 4 = 12672\n",
      "    weights: F_1 * F_2 * K_2 = 32 * 32 * 20 = 20480\n",
      "    biases: F_2 = 32\n",
      "  layer 3: cgconv3\n",
      "    representation: M_2 * F_3 / p_3 = 396 * 32 / 4 = 3168\n",
      "    weights: F_2 * F_3 * K_3 = 32 * 32 * 20 = 20480\n",
      "    biases: F_3 = 32\n",
      "  layer 4: fc1\n",
      "    representation: M_4 = 512\n",
      "    weights: M_3 * M_4 = 3168 * 512 = 1622016\n",
      "    biases: M_4 = 512\n",
      "  layer 5: logits (softmax)\n",
      "    representation: M_5 = 2\n",
      "    weights: M_4 * M_5 = 512 * 2 = 1024\n",
      "    biases: M_5 = 2\n",
      "WARNING:tensorflow:From /ereborfs/agarmanv/cnn_graph/lib/python3.8/site-packages/tensorflow/python/util/dispatch.py:1082: calling dropout (from tensorflow.python.ops.nn_ops) with keep_prob is deprecated and will be removed in a future version.\n",
      "Instructions for updating:\n",
      "Please use `rate` instead of `keep_prob`. Rate should be set to `rate = 1 - keep_prob`.\n",
      "WARNING:tensorflow:From /ereborfs/agarmanv/cnn_graph/lib/python3.8/site-packages/tensorflow/python/util/dispatch.py:1082: to_int64 (from tensorflow.python.ops.math_ops) is deprecated and will be removed in a future version.\n",
      "Instructions for updating:\n",
      "Use `tf.cast` instead.\n"
     ]
    },
    {
     "name": "stderr",
     "output_type": "stream",
     "text": [
      "2022-06-27 17:29:16.072425: I tensorflow/core/platform/cpu_feature_guard.cc:193] This TensorFlow binary is optimized with oneAPI Deep Neural Network Library (oneDNN) to use the following CPU instructions in performance-critical operations:  AVX2 AVX512F FMA\n",
      "To enable them in other operations, rebuild TensorFlow with the appropriate compiler flags.\n",
      "2022-06-27 17:29:16.830602: I tensorflow/core/common_runtime/gpu/gpu_device.cc:1532] Created device /job:localhost/replica:0/task:0/device:GPU:0 with 14485 MB memory:  -> device: 0, name: Quadro RTX 5000, pci bus id: 0000:04:00.0, compute capability: 7.5\n",
      "2022-06-27 17:29:16.831154: I tensorflow/core/common_runtime/gpu/gpu_device.cc:1532] Created device /job:localhost/replica:0/task:0/device:GPU:1 with 14784 MB memory:  -> device: 1, name: Quadro RTX 5000, pci bus id: 0000:65:00.0, compute capability: 7.5\n",
      "2022-06-27 17:29:17.590293: I tensorflow/compiler/mlir/mlir_graph_optimization_pass.cc:354] MLIR V1 optimization pass is not enabled\n",
      "2022-06-27 17:29:20.362672: I tensorflow/stream_executor/cuda/cuda_dnn.cc:384] Loaded cuDNN version 8400\n"
     ]
    },
    {
     "name": "stdout",
     "output_type": "stream",
     "text": [
      "step 120 / 5980 (epoch 2.01 / 100):\n",
      "  learning_rate = 9.50e-04, loss_average = 3.78e+00\n",
      "  validation accuracy: 63.26 (1076 / 1701), f1 (weighted): 54.40, loss: 3.96e+00\n",
      "  time: 33s (wall 169s)\n",
      "INFO:tensorflow:/tungstenfs/scratch/gzenke/agarmanv/cnn_graph/lib/../checkpoints/demo/model-120.index\n",
      "INFO:tensorflow:0\n",
      "INFO:tensorflow:/tungstenfs/scratch/gzenke/agarmanv/cnn_graph/lib/../checkpoints/demo/model-120.data-00000-of-00001\n",
      "INFO:tensorflow:13300\n",
      "INFO:tensorflow:/tungstenfs/scratch/gzenke/agarmanv/cnn_graph/lib/../checkpoints/demo/model-120.meta\n",
      "INFO:tensorflow:70100\n",
      "step 240 / 5980 (epoch 4.01 / 100):\n",
      "  learning_rate = 8.57e-04, loss_average = 3.77e+00\n",
      "  validation accuracy: 64.20 (1092 / 1701), f1 (weighted): 56.92, loss: 3.95e+00\n",
      "  time: 63s (wall 337s)\n",
      "INFO:tensorflow:/tungstenfs/scratch/gzenke/agarmanv/cnn_graph/lib/../checkpoints/demo/model-240.data-00000-of-00001\n",
      "INFO:tensorflow:13300\n",
      "INFO:tensorflow:/tungstenfs/scratch/gzenke/agarmanv/cnn_graph/lib/../checkpoints/demo/model-240.index\n",
      "INFO:tensorflow:13300\n",
      "INFO:tensorflow:/tungstenfs/scratch/gzenke/agarmanv/cnn_graph/lib/../checkpoints/demo/model-240.meta\n",
      "INFO:tensorflow:70100\n",
      "step 360 / 5980 (epoch 6.02 / 100):\n",
      "  learning_rate = 7.35e-04, loss_average = 3.74e+00\n",
      "  validation accuracy: 65.26 (1110 / 1701), f1 (weighted): 60.91, loss: 3.94e+00\n",
      "  time: 91s (wall 502s)\n",
      "INFO:tensorflow:/tungstenfs/scratch/gzenke/agarmanv/cnn_graph/lib/../checkpoints/demo/model-360.data-00000-of-00001\n",
      "INFO:tensorflow:13300\n",
      "INFO:tensorflow:/tungstenfs/scratch/gzenke/agarmanv/cnn_graph/lib/../checkpoints/demo/model-360.meta\n",
      "INFO:tensorflow:70100\n",
      "INFO:tensorflow:/tungstenfs/scratch/gzenke/agarmanv/cnn_graph/lib/../checkpoints/demo/model-360.index\n",
      "INFO:tensorflow:70100\n",
      "step 480 / 5980 (epoch 8.03 / 100):\n",
      "  learning_rate = 6.63e-04, loss_average = 3.73e+00\n",
      "  validation accuracy: 65.49 (1114 / 1701), f1 (weighted): 59.36, loss: 3.93e+00\n",
      "  time: 119s (wall 668s)\n",
      "INFO:tensorflow:/tungstenfs/scratch/gzenke/agarmanv/cnn_graph/lib/../checkpoints/demo/model-480.data-00000-of-00001\n",
      "INFO:tensorflow:13300\n",
      "INFO:tensorflow:/tungstenfs/scratch/gzenke/agarmanv/cnn_graph/lib/../checkpoints/demo/model-480.index\n",
      "INFO:tensorflow:13300\n",
      "INFO:tensorflow:/tungstenfs/scratch/gzenke/agarmanv/cnn_graph/lib/../checkpoints/demo/model-480.meta\n",
      "INFO:tensorflow:70100\n",
      "step 600 / 5980 (epoch 10.03 / 100):\n",
      "  learning_rate = 5.99e-04, loss_average = 3.72e+00\n",
      "  validation accuracy: 66.61 (1133 / 1701), f1 (weighted): 62.41, loss: 3.92e+00\n",
      "  time: 147s (wall 833s)\n",
      "INFO:tensorflow:/tungstenfs/scratch/gzenke/agarmanv/cnn_graph/lib/../checkpoints/demo/model-600.data-00000-of-00001\n",
      "INFO:tensorflow:13300\n",
      "INFO:tensorflow:/tungstenfs/scratch/gzenke/agarmanv/cnn_graph/lib/../checkpoints/demo/model-600.meta\n",
      "INFO:tensorflow:70100\n",
      "INFO:tensorflow:/tungstenfs/scratch/gzenke/agarmanv/cnn_graph/lib/../checkpoints/demo/model-600.index\n",
      "INFO:tensorflow:70100\n",
      "step 720 / 5980 (epoch 12.04 / 100):\n",
      "  learning_rate = 5.40e-04, loss_average = 3.72e+00\n",
      "  validation accuracy: 69.96 (1190 / 1701), f1 (weighted): 68.17, loss: 3.93e+00\n",
      "  time: 176s (wall 999s)\n",
      "WARNING:tensorflow:From /ereborfs/agarmanv/cnn_graph/lib/python3.8/site-packages/tensorflow/python/training/saver.py:1066: remove_checkpoint (from tensorflow.python.training.checkpoint_management) is deprecated and will be removed in a future version.\n",
      "Instructions for updating:\n",
      "Use standard file APIs to delete files with this prefix.\n",
      "INFO:tensorflow:/tungstenfs/scratch/gzenke/agarmanv/cnn_graph/lib/../checkpoints/demo/model-720.data-00000-of-00001\n",
      "INFO:tensorflow:13300\n",
      "INFO:tensorflow:/tungstenfs/scratch/gzenke/agarmanv/cnn_graph/lib/../checkpoints/demo/model-720.index\n",
      "INFO:tensorflow:13300\n",
      "INFO:tensorflow:/tungstenfs/scratch/gzenke/agarmanv/cnn_graph/lib/../checkpoints/demo/model-720.meta\n",
      "INFO:tensorflow:70100\n",
      "step 840 / 5980 (epoch 14.05 / 100):\n",
      "  learning_rate = 4.88e-04, loss_average = 3.70e+00\n",
      "  validation accuracy: 68.78 (1170 / 1701), f1 (weighted): 66.08, loss: 3.90e+00\n",
      "  time: 204s (wall 1165s)\n",
      "INFO:tensorflow:/tungstenfs/scratch/gzenke/agarmanv/cnn_graph/lib/../checkpoints/demo/model-840.meta\n",
      "INFO:tensorflow:56800\n",
      "INFO:tensorflow:/tungstenfs/scratch/gzenke/agarmanv/cnn_graph/lib/../checkpoints/demo/model-840.index\n",
      "INFO:tensorflow:56800\n",
      "INFO:tensorflow:/tungstenfs/scratch/gzenke/agarmanv/cnn_graph/lib/../checkpoints/demo/model-840.data-00000-of-00001\n",
      "INFO:tensorflow:70100\n",
      "step 960 / 5980 (epoch 16.05 / 100):\n",
      "  learning_rate = 4.40e-04, loss_average = 3.70e+00\n",
      "  validation accuracy: 70.90 (1206 / 1701), f1 (weighted): 68.18, loss: 3.90e+00\n",
      "  time: 232s (wall 1330s)\n",
      "INFO:tensorflow:/tungstenfs/scratch/gzenke/agarmanv/cnn_graph/lib/../checkpoints/demo/model-960.data-00000-of-00001\n",
      "INFO:tensorflow:13300\n",
      "INFO:tensorflow:/tungstenfs/scratch/gzenke/agarmanv/cnn_graph/lib/../checkpoints/demo/model-960.meta\n",
      "INFO:tensorflow:70100\n",
      "INFO:tensorflow:/tungstenfs/scratch/gzenke/agarmanv/cnn_graph/lib/../checkpoints/demo/model-960.index\n",
      "INFO:tensorflow:70100\n",
      "step 1080 / 5980 (epoch 18.06 / 100):\n",
      "  learning_rate = 3.97e-04, loss_average = 3.67e+00\n",
      "  validation accuracy: 66.43 (1130 / 1701), f1 (weighted): 59.15, loss: 3.90e+00\n",
      "  time: 260s (wall 1496s)\n",
      "INFO:tensorflow:/tungstenfs/scratch/gzenke/agarmanv/cnn_graph/lib/../checkpoints/demo/model-1080.index\n",
      "INFO:tensorflow:0\n",
      "INFO:tensorflow:/tungstenfs/scratch/gzenke/agarmanv/cnn_graph/lib/../checkpoints/demo/model-1080.meta\n",
      "INFO:tensorflow:56800\n",
      "INFO:tensorflow:/tungstenfs/scratch/gzenke/agarmanv/cnn_graph/lib/../checkpoints/demo/model-1080.data-00000-of-00001\n",
      "INFO:tensorflow:70100\n",
      "step 1200 / 5980 (epoch 20.07 / 100):\n",
      "  learning_rate = 3.58e-04, loss_average = 3.66e+00\n",
      "  validation accuracy: 72.43 (1232 / 1701), f1 (weighted): 72.03, loss: 3.91e+00\n",
      "  time: 289s (wall 1662s)\n",
      "INFO:tensorflow:/tungstenfs/scratch/gzenke/agarmanv/cnn_graph/lib/../checkpoints/demo/model-1200.data-00000-of-00001\n",
      "INFO:tensorflow:13300\n",
      "INFO:tensorflow:/tungstenfs/scratch/gzenke/agarmanv/cnn_graph/lib/../checkpoints/demo/model-1200.meta\n",
      "INFO:tensorflow:70100\n",
      "INFO:tensorflow:/tungstenfs/scratch/gzenke/agarmanv/cnn_graph/lib/../checkpoints/demo/model-1200.index\n",
      "INFO:tensorflow:70100\n",
      "step 1320 / 5980 (epoch 22.07 / 100):\n",
      "  learning_rate = 3.24e-04, loss_average = 3.67e+00\n",
      "  validation accuracy: 72.31 (1230 / 1701), f1 (weighted): 70.68, loss: 3.87e+00\n",
      "  time: 317s (wall 1827s)\n",
      "INFO:tensorflow:/tungstenfs/scratch/gzenke/agarmanv/cnn_graph/lib/../checkpoints/demo/model-1320.meta\n",
      "INFO:tensorflow:56800\n",
      "INFO:tensorflow:/tungstenfs/scratch/gzenke/agarmanv/cnn_graph/lib/../checkpoints/demo/model-1320.index\n",
      "INFO:tensorflow:56800\n",
      "INFO:tensorflow:/tungstenfs/scratch/gzenke/agarmanv/cnn_graph/lib/../checkpoints/demo/model-1320.data-00000-of-00001\n",
      "INFO:tensorflow:70100\n",
      "step 1440 / 5980 (epoch 24.08 / 100):\n",
      "  learning_rate = 2.92e-04, loss_average = 3.65e+00\n",
      "  validation accuracy: 72.55 (1234 / 1701), f1 (weighted): 71.40, loss: 3.88e+00\n",
      "  time: 345s (wall 1993s)\n",
      "INFO:tensorflow:/tungstenfs/scratch/gzenke/agarmanv/cnn_graph/lib/../checkpoints/demo/model-1440.data-00000-of-00001\n",
      "INFO:tensorflow:13300\n",
      "INFO:tensorflow:/tungstenfs/scratch/gzenke/agarmanv/cnn_graph/lib/../checkpoints/demo/model-1440.index\n",
      "INFO:tensorflow:13300\n",
      "INFO:tensorflow:/tungstenfs/scratch/gzenke/agarmanv/cnn_graph/lib/../checkpoints/demo/model-1440.meta\n",
      "INFO:tensorflow:70100\n",
      "step 1560 / 5980 (epoch 26.09 / 100):\n",
      "  learning_rate = 2.64e-04, loss_average = 3.66e+00\n",
      "  validation accuracy: 72.66 (1236 / 1701), f1 (weighted): 70.67, loss: 3.86e+00\n",
      "  time: 373s (wall 2158s)\n",
      "INFO:tensorflow:/tungstenfs/scratch/gzenke/agarmanv/cnn_graph/lib/../checkpoints/demo/model-1560.data-00000-of-00001\n",
      "INFO:tensorflow:13300\n",
      "INFO:tensorflow:/tungstenfs/scratch/gzenke/agarmanv/cnn_graph/lib/../checkpoints/demo/model-1560.meta\n",
      "INFO:tensorflow:70100\n",
      "INFO:tensorflow:/tungstenfs/scratch/gzenke/agarmanv/cnn_graph/lib/../checkpoints/demo/model-1560.index\n",
      "INFO:tensorflow:70100\n",
      "step 1680 / 5980 (epoch 28.09 / 100):\n",
      "  learning_rate = 2.38e-04, loss_average = 3.63e+00\n",
      "  validation accuracy: 73.25 (1246 / 1701), f1 (weighted): 72.73, loss: 3.88e+00\n",
      "  time: 402s (wall 2324s)\n",
      "INFO:tensorflow:/tungstenfs/scratch/gzenke/agarmanv/cnn_graph/lib/../checkpoints/demo/model-1680.index\n",
      "INFO:tensorflow:0\n"
     ]
    },
    {
     "name": "stdout",
     "output_type": "stream",
     "text": [
      "INFO:tensorflow:/tungstenfs/scratch/gzenke/agarmanv/cnn_graph/lib/../checkpoints/demo/model-1680.meta\n",
      "INFO:tensorflow:56800\n",
      "INFO:tensorflow:/tungstenfs/scratch/gzenke/agarmanv/cnn_graph/lib/../checkpoints/demo/model-1680.data-00000-of-00001\n",
      "INFO:tensorflow:70100\n",
      "step 1800 / 5980 (epoch 30.10 / 100):\n",
      "  learning_rate = 2.15e-04, loss_average = 3.64e+00\n",
      "  validation accuracy: 73.96 (1258 / 1701), f1 (weighted): 74.12, loss: 3.90e+00\n",
      "  time: 430s (wall 2490s)\n",
      "INFO:tensorflow:/tungstenfs/scratch/gzenke/agarmanv/cnn_graph/lib/../checkpoints/demo/model-1800.index\n",
      "INFO:tensorflow:0\n",
      "INFO:tensorflow:/tungstenfs/scratch/gzenke/agarmanv/cnn_graph/lib/../checkpoints/demo/model-1800.meta\n",
      "INFO:tensorflow:56800\n",
      "INFO:tensorflow:/tungstenfs/scratch/gzenke/agarmanv/cnn_graph/lib/../checkpoints/demo/model-1800.data-00000-of-00001\n",
      "INFO:tensorflow:70100\n",
      "step 1920 / 5980 (epoch 32.11 / 100):\n",
      "  learning_rate = 1.94e-04, loss_average = 3.63e+00\n",
      "  validation accuracy: 71.66 (1219 / 1701), f1 (weighted): 68.80, loss: 3.84e+00\n",
      "  time: 458s (wall 2655s)\n",
      "INFO:tensorflow:/tungstenfs/scratch/gzenke/agarmanv/cnn_graph/lib/../checkpoints/demo/model-1920.index\n",
      "INFO:tensorflow:0\n",
      "INFO:tensorflow:/tungstenfs/scratch/gzenke/agarmanv/cnn_graph/lib/../checkpoints/demo/model-1920.data-00000-of-00001\n",
      "INFO:tensorflow:13300\n",
      "INFO:tensorflow:/tungstenfs/scratch/gzenke/agarmanv/cnn_graph/lib/../checkpoints/demo/model-1920.meta\n",
      "INFO:tensorflow:70100\n",
      "step 2040 / 5980 (epoch 34.11 / 100):\n",
      "  learning_rate = 1.75e-04, loss_average = 3.61e+00\n",
      "  validation accuracy: 73.90 (1257 / 1701), f1 (weighted): 73.55, loss: 3.86e+00\n",
      "  time: 487s (wall 2821s)\n",
      "INFO:tensorflow:/tungstenfs/scratch/gzenke/agarmanv/cnn_graph/lib/../checkpoints/demo/model-2040.index\n",
      "INFO:tensorflow:0\n",
      "INFO:tensorflow:/tungstenfs/scratch/gzenke/agarmanv/cnn_graph/lib/../checkpoints/demo/model-2040.meta\n",
      "INFO:tensorflow:56800\n",
      "INFO:tensorflow:/tungstenfs/scratch/gzenke/agarmanv/cnn_graph/lib/../checkpoints/demo/model-2040.data-00000-of-00001\n",
      "INFO:tensorflow:70100\n",
      "step 2160 / 5980 (epoch 36.12 / 100):\n",
      "  learning_rate = 1.58e-04, loss_average = 3.61e+00\n",
      "  validation accuracy: 74.31 (1264 / 1701), f1 (weighted): 74.02, loss: 3.85e+00\n",
      "  time: 515s (wall 2987s)\n",
      "INFO:tensorflow:/tungstenfs/scratch/gzenke/agarmanv/cnn_graph/lib/../checkpoints/demo/model-2160.meta\n",
      "INFO:tensorflow:56800\n",
      "INFO:tensorflow:/tungstenfs/scratch/gzenke/agarmanv/cnn_graph/lib/../checkpoints/demo/model-2160.data-00000-of-00001\n",
      "INFO:tensorflow:70100\n",
      "INFO:tensorflow:/tungstenfs/scratch/gzenke/agarmanv/cnn_graph/lib/../checkpoints/demo/model-2160.index\n",
      "INFO:tensorflow:70100\n",
      "step 2280 / 5980 (epoch 38.13 / 100):\n",
      "  learning_rate = 1.42e-04, loss_average = 3.62e+00\n",
      "  validation accuracy: 73.49 (1250 / 1701), f1 (weighted): 71.24, loss: 3.83e+00\n",
      "  time: 543s (wall 3152s)\n",
      "INFO:tensorflow:/tungstenfs/scratch/gzenke/agarmanv/cnn_graph/lib/../checkpoints/demo/model-2280.data-00000-of-00001\n",
      "INFO:tensorflow:13300\n",
      "INFO:tensorflow:/tungstenfs/scratch/gzenke/agarmanv/cnn_graph/lib/../checkpoints/demo/model-2280.meta\n",
      "INFO:tensorflow:70100\n",
      "INFO:tensorflow:/tungstenfs/scratch/gzenke/agarmanv/cnn_graph/lib/../checkpoints/demo/model-2280.index\n",
      "INFO:tensorflow:70100\n",
      "step 2400 / 5980 (epoch 40.13 / 100):\n",
      "  learning_rate = 1.29e-04, loss_average = 3.61e+00\n",
      "  validation accuracy: 73.96 (1258 / 1701), f1 (weighted): 73.57, loss: 3.84e+00\n",
      "  time: 572s (wall 3318s)\n",
      "INFO:tensorflow:/tungstenfs/scratch/gzenke/agarmanv/cnn_graph/lib/../checkpoints/demo/model-2400.index\n",
      "INFO:tensorflow:0\n",
      "INFO:tensorflow:/tungstenfs/scratch/gzenke/agarmanv/cnn_graph/lib/../checkpoints/demo/model-2400.meta\n",
      "INFO:tensorflow:56800\n",
      "INFO:tensorflow:/tungstenfs/scratch/gzenke/agarmanv/cnn_graph/lib/../checkpoints/demo/model-2400.data-00000-of-00001\n",
      "INFO:tensorflow:70100\n",
      "step 2520 / 5980 (epoch 42.14 / 100):\n",
      "  learning_rate = 1.16e-04, loss_average = 3.59e+00\n",
      "  validation accuracy: 74.13 (1261 / 1701), f1 (weighted): 73.65, loss: 3.84e+00\n",
      "  time: 600s (wall 3484s)\n",
      "INFO:tensorflow:/tungstenfs/scratch/gzenke/agarmanv/cnn_graph/lib/../checkpoints/demo/model-2520.meta\n",
      "INFO:tensorflow:56800\n",
      "INFO:tensorflow:/tungstenfs/scratch/gzenke/agarmanv/cnn_graph/lib/../checkpoints/demo/model-2520.data-00000-of-00001\n",
      "INFO:tensorflow:70100\n",
      "INFO:tensorflow:/tungstenfs/scratch/gzenke/agarmanv/cnn_graph/lib/../checkpoints/demo/model-2520.index\n",
      "INFO:tensorflow:70100\n",
      "step 2640 / 5980 (epoch 44.15 / 100):\n",
      "  learning_rate = 1.05e-04, loss_average = 3.59e+00\n",
      "  validation accuracy: 74.60 (1269 / 1701), f1 (weighted): 73.78, loss: 3.82e+00\n",
      "  time: 628s (wall 3649s)\n",
      "INFO:tensorflow:/tungstenfs/scratch/gzenke/agarmanv/cnn_graph/lib/../checkpoints/demo/model-2640.meta\n",
      "INFO:tensorflow:56800\n",
      "INFO:tensorflow:/tungstenfs/scratch/gzenke/agarmanv/cnn_graph/lib/../checkpoints/demo/model-2640.data-00000-of-00001\n",
      "INFO:tensorflow:70100\n",
      "INFO:tensorflow:/tungstenfs/scratch/gzenke/agarmanv/cnn_graph/lib/../checkpoints/demo/model-2640.index\n",
      "INFO:tensorflow:70100\n"
     ]
    }
   ],
   "source": [
    "model = models.cgcnn(L, **params)\n",
    "accuracy, loss, t_step = model.fit(X_train, train_y, X_test, test_y)"
   ]
  },
  {
   "cell_type": "code",
   "execution_count": null,
   "id": "dac2fb8e",
   "metadata": {},
   "outputs": [],
   "source": []
  },
  {
   "cell_type": "code",
   "execution_count": null,
   "id": "a8d97b3f",
   "metadata": {},
   "outputs": [],
   "source": []
  },
  {
   "cell_type": "code",
   "execution_count": null,
   "id": "b047d59b",
   "metadata": {},
   "outputs": [],
   "source": []
  },
  {
   "cell_type": "code",
   "execution_count": null,
   "id": "72317bd1",
   "metadata": {},
   "outputs": [],
   "source": []
  }
 ],
 "metadata": {
  "kernelspec": {
   "display_name": "Python 3 (ipykernel)",
   "language": "python",
   "name": "python3"
  },
  "language_info": {
   "codemirror_mode": {
    "name": "ipython",
    "version": 3
   },
   "file_extension": ".py",
   "mimetype": "text/x-python",
   "name": "python",
   "nbconvert_exporter": "python",
   "pygments_lexer": "ipython3",
   "version": "3.8.10"
  }
 },
 "nbformat": 4,
 "nbformat_minor": 5
}
