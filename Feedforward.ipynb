{
 "cells": [
  {
   "cell_type": "code",
   "execution_count": 1,
   "id": "b24919ee",
   "metadata": {},
   "outputs": [
    {
     "data": {
      "text/html": [
       "<style>.container { width:80% !important; }</style>"
      ],
      "text/plain": [
       "<IPython.core.display.HTML object>"
      ]
     },
     "metadata": {},
     "output_type": "display_data"
    }
   ],
   "source": [
    "from IPython.display import display, HTML\n",
    "display(HTML(\"<style>.container { width:80% !important; }</style>\"))"
   ]
  },
  {
   "cell_type": "markdown",
   "id": "ef9542d5",
   "metadata": {},
   "source": [
    "## Load data and train a feedforward model"
   ]
  },
  {
   "cell_type": "code",
   "execution_count": 2,
   "id": "4f9371ee",
   "metadata": {},
   "outputs": [
    {
     "name": "stderr",
     "output_type": "stream",
     "text": [
      "/ereborfs/agarmanv/stork-light-abXCdFGn-py3.8/lib/python3.8/site-packages/tqdm/auto.py:22: TqdmWarning: IProgress not found. Please update jupyter and ipywidgets. See https://ipywidgets.readthedocs.io/en/stable/user_install.html\n",
      "  from .autonotebook import tqdm as notebook_tqdm\n"
     ]
    }
   ],
   "source": [
    "from lib.mlggm.datamodules import ApneaDataModule"
   ]
  },
  {
   "cell_type": "code",
   "execution_count": 3,
   "id": "e0540c1d",
   "metadata": {},
   "outputs": [
    {
     "name": "stdout",
     "output_type": "stream",
     "text": [
      "Loaded data from cache...\n",
      "Loaded data from cache...\n",
      "Size of training set:  15309\n",
      "Size of validation set:  1701\n"
     ]
    }
   ],
   "source": [
    "dm = ApneaDataModule(\n",
    "    batch_size=1024, num_workers=4, shuffle=False, path=\"./data\"\n",
    ")"
   ]
  },
  {
   "cell_type": "code",
   "execution_count": 4,
   "id": "57c3b4dc",
   "metadata": {},
   "outputs": [],
   "source": [
    "from lib.mlggm.ff_model import FF"
   ]
  },
  {
   "cell_type": "code",
   "execution_count": 5,
   "id": "34c05d59",
   "metadata": {},
   "outputs": [],
   "source": [
    "model = FF()"
   ]
  },
  {
   "cell_type": "code",
   "execution_count": 6,
   "id": "8148796a",
   "metadata": {},
   "outputs": [],
   "source": [
    "import pytorch_lightning as pl"
   ]
  },
  {
   "cell_type": "code",
   "execution_count": 7,
   "id": "9c938123",
   "metadata": {},
   "outputs": [],
   "source": [
    "from lib.mlggm.callback import MetricTracker\n",
    "cb = MetricTracker()"
   ]
  },
  {
   "cell_type": "code",
   "execution_count": 8,
   "id": "928e1bf7",
   "metadata": {},
   "outputs": [
    {
     "name": "stderr",
     "output_type": "stream",
     "text": [
      "GPU available: True, used: False\n",
      "TPU available: False, using: 0 TPU cores\n",
      "IPU available: False, using: 0 IPUs\n",
      "HPU available: False, using: 0 HPUs\n",
      "/ereborfs/agarmanv/stork-light-abXCdFGn-py3.8/lib/python3.8/site-packages/pytorch_lightning/trainer/trainer.py:1812: PossibleUserWarning: GPU available but not used. Set `accelerator` and `devices` using `Trainer(accelerator='gpu', devices=2)`.\n",
      "  rank_zero_warn(\n"
     ]
    }
   ],
   "source": [
    "trainer = pl.Trainer(max_epochs=100, check_val_every_n_epoch=2, callbacks=[cb])"
   ]
  },
  {
   "cell_type": "code",
   "execution_count": 9,
   "id": "ea5aea0d",
   "metadata": {
    "scrolled": false
   },
   "outputs": [
    {
     "name": "stderr",
     "output_type": "stream",
     "text": [
      "\n",
      "  | Name          | Type              | Params\n",
      "----------------------------------------------------\n",
      "0 | loss_fn       | BCEWithLogitsLoss | 0     \n",
      "1 | hidden_layer  | Linear            | 6.1 M \n",
      "2 | nonlin        | Sigmoid           | 0     \n",
      "3 | readout_layer | Linear            | 1.0 K \n",
      "----------------------------------------------------\n",
      "6.1 M     Trainable params\n",
      "0         Non-trainable params\n",
      "6.1 M     Total params\n",
      "24.584    Total estimated model params size (MB)\n"
     ]
    },
    {
     "name": "stdout",
     "output_type": "stream",
     "text": [
      "                                                                                                                                                                                                                   "
     ]
    },
    {
     "name": "stderr",
     "output_type": "stream",
     "text": [
      "/ereborfs/agarmanv/stork-light-abXCdFGn-py3.8/lib/python3.8/site-packages/pytorch_lightning/trainer/trainer.py:1927: PossibleUserWarning: The number of training batches (15) is smaller than the logging interval Trainer(log_every_n_steps=50). Set a lower value for log_every_n_steps if you want to see logs for the training epoch.\n",
      "  rank_zero_warn(\n"
     ]
    },
    {
     "name": "stdout",
     "output_type": "stream",
     "text": [
      "Epoch 1:  88%|█████████████████████████████████████████████████████████████████████████████████████▌           | 15/17 [00:00<00:00, 21.76it/s, loss=0.667, v_num=2, train/loss_step=0.623, train/loss_epoch=0.908]\n",
      "Validation: 0it [00:00, ?it/s]\u001b[A\n",
      "Validation:   0%|                                                                                                                                                                            | 0/2 [00:00<?, ?it/s]\u001b[A\n",
      "Validation DataLoader 0:   0%|                                                                                                                                                               | 0/2 [00:00<?, ?it/s]\u001b[A\n",
      "Epoch 1:  94%|███████████████████████████████████████████████████████████████████████████████████████████▎     | 16/17 [00:00<00:00, 20.87it/s, loss=0.667, v_num=2, train/loss_step=0.623, train/loss_epoch=0.908]\u001b[A\n",
      "Epoch 1: 100%|█████████| 17/17 [00:00<00:00, 21.32it/s, loss=0.667, v_num=2, train/loss_step=0.623, train/loss_epoch=0.908, test/loss_step=0.683, test/acc_step=0.645, test/loss_epoch=0.698, test/acc_epoch=0.614]\u001b[A\n",
      "Epoch 3:  88%|███████▉ | 15/17 [00:00<00:00, 19.74it/s, loss=0.586, v_num=2, train/loss_step=0.573, train/loss_epoch=0.597, test/loss_step=0.683, test/acc_step=0.645, test/loss_epoch=0.698, test/acc_epoch=0.614]\u001b[A\n",
      "Validation: 0it [00:00, ?it/s]\u001b[A\n",
      "Validation:   0%|                                                                                                                                                                            | 0/2 [00:00<?, ?it/s]\u001b[A\n",
      "Validation DataLoader 0:   0%|                                                                                                                                                               | 0/2 [00:00<?, ?it/s]\u001b[A\n",
      "Epoch 3:  94%|████████▍| 16/17 [00:00<00:00, 19.60it/s, loss=0.586, v_num=2, train/loss_step=0.573, train/loss_epoch=0.597, test/loss_step=0.683, test/acc_step=0.645, test/loss_epoch=0.698, test/acc_epoch=0.614]\u001b[A\n",
      "Epoch 3: 100%|█████████| 17/17 [00:00<00:00, 20.35it/s, loss=0.586, v_num=2, train/loss_step=0.573, train/loss_epoch=0.597, test/loss_step=0.714, test/acc_step=0.644, test/loss_epoch=0.730, test/acc_epoch=0.600]\u001b[A\n",
      "Epoch 5:  88%|███████▉ | 15/17 [00:00<00:00, 15.14it/s, loss=0.554, v_num=2, train/loss_step=0.534, train/loss_epoch=0.563, test/loss_step=0.714, test/acc_step=0.644, test/loss_epoch=0.730, test/acc_epoch=0.600]\u001b[A\n",
      "Validation: 0it [00:00, ?it/s]\u001b[A\n",
      "Validation:   0%|                                                                                                                                                                            | 0/2 [00:00<?, ?it/s]\u001b[A\n",
      "Validation DataLoader 0:   0%|                                                                                                                                                               | 0/2 [00:00<?, ?it/s]\u001b[A\n",
      "Epoch 5:  94%|████████▍| 16/17 [00:01<00:00, 15.12it/s, loss=0.554, v_num=2, train/loss_step=0.534, train/loss_epoch=0.563, test/loss_step=0.714, test/acc_step=0.644, test/loss_epoch=0.730, test/acc_epoch=0.600]\u001b[A\n",
      "Epoch 5: 100%|█████████| 17/17 [00:01<00:00, 15.80it/s, loss=0.554, v_num=2, train/loss_step=0.534, train/loss_epoch=0.563, test/loss_step=0.749, test/acc_step=0.626, test/loss_epoch=0.766, test/acc_epoch=0.585]\u001b[A\n",
      "Epoch 7:  88%|███████▉ | 15/17 [00:00<00:00, 18.90it/s, loss=0.523, v_num=2, train/loss_step=0.499, train/loss_epoch=0.533, test/loss_step=0.749, test/acc_step=0.626, test/loss_epoch=0.766, test/acc_epoch=0.585]\u001b[A\n",
      "Validation: 0it [00:00, ?it/s]\u001b[A\n",
      "Validation:   0%|                                                                                                                                                                            | 0/2 [00:00<?, ?it/s]\u001b[A\n",
      "Validation DataLoader 0:   0%|                                                                                                                                                               | 0/2 [00:00<?, ?it/s]\u001b[A\n",
      "Epoch 7:  94%|████████▍| 16/17 [00:00<00:00, 18.87it/s, loss=0.523, v_num=2, train/loss_step=0.499, train/loss_epoch=0.533, test/loss_step=0.749, test/acc_step=0.626, test/loss_epoch=0.766, test/acc_epoch=0.585]\u001b[A\n",
      "Epoch 7: 100%|█████████| 17/17 [00:00<00:00, 19.61it/s, loss=0.523, v_num=2, train/loss_step=0.499, train/loss_epoch=0.533, test/loss_step=0.786, test/acc_step=0.604, test/loss_epoch=0.803, test/acc_epoch=0.581]\u001b[A\n",
      "Epoch 9:  88%|████████▊ | 15/17 [00:00<00:00, 19.11it/s, loss=0.49, v_num=2, train/loss_step=0.464, train/loss_epoch=0.503, test/loss_step=0.786, test/acc_step=0.604, test/loss_epoch=0.803, test/acc_epoch=0.581]\u001b[A\n",
      "Validation: 0it [00:00, ?it/s]\u001b[A\n",
      "Validation:   0%|                                                                                                                                                                            | 0/2 [00:00<?, ?it/s]\u001b[A\n",
      "Validation DataLoader 0:   0%|                                                                                                                                                               | 0/2 [00:00<?, ?it/s]\u001b[A\n",
      "Epoch 9:  94%|█████████▍| 16/17 [00:00<00:00, 18.74it/s, loss=0.49, v_num=2, train/loss_step=0.464, train/loss_epoch=0.503, test/loss_step=0.786, test/acc_step=0.604, test/loss_epoch=0.803, test/acc_epoch=0.581]\u001b[A\n",
      "Epoch 9: 100%|██████████| 17/17 [00:00<00:00, 19.44it/s, loss=0.49, v_num=2, train/loss_step=0.464, train/loss_epoch=0.503, test/loss_step=0.824, test/acc_step=0.595, test/loss_epoch=0.841, test/acc_epoch=0.576]\u001b[A\n",
      "Epoch 11:  88%|███████ | 15/17 [00:00<00:00, 20.73it/s, loss=0.456, v_num=2, train/loss_step=0.428, train/loss_epoch=0.470, test/loss_step=0.824, test/acc_step=0.595, test/loss_epoch=0.841, test/acc_epoch=0.576]\u001b[A\n",
      "Validation: 0it [00:00, ?it/s]\u001b[A\n",
      "Validation:   0%|                                                                                                                                                                            | 0/2 [00:00<?, ?it/s]\u001b[A\n",
      "Validation DataLoader 0:   0%|                                                                                                                                                               | 0/2 [00:00<?, ?it/s]\u001b[A\n",
      "Epoch 11:  94%|███████▌| 16/17 [00:00<00:00, 20.38it/s, loss=0.456, v_num=2, train/loss_step=0.428, train/loss_epoch=0.470, test/loss_step=0.824, test/acc_step=0.595, test/loss_epoch=0.841, test/acc_epoch=0.576]\u001b[A\n",
      "Epoch 11: 100%|████████| 17/17 [00:00<00:00, 21.08it/s, loss=0.456, v_num=2, train/loss_step=0.428, train/loss_epoch=0.470, test/loss_step=0.865, test/acc_step=0.581, test/loss_epoch=0.881, test/acc_epoch=0.563]\u001b[A\n",
      "Epoch 13:  88%|███████▉ | 15/17 [00:00<00:00, 21.35it/s, loss=0.42, v_num=2, train/loss_step=0.393, train/loss_epoch=0.435, test/loss_step=0.865, test/acc_step=0.581, test/loss_epoch=0.881, test/acc_epoch=0.563]\u001b[A\n",
      "Validation: 0it [00:00, ?it/s]\u001b[A\n",
      "Validation:   0%|                                                                                                                                                                            | 0/2 [00:00<?, ?it/s]\u001b[A\n",
      "Validation DataLoader 0:   0%|                                                                                                                                                               | 0/2 [00:00<?, ?it/s]\u001b[A\n",
      "Epoch 13:  94%|████████▍| 16/17 [00:00<00:00, 20.94it/s, loss=0.42, v_num=2, train/loss_step=0.393, train/loss_epoch=0.435, test/loss_step=0.865, test/acc_step=0.581, test/loss_epoch=0.881, test/acc_epoch=0.563]\u001b[A\n",
      "Epoch 13: 100%|█████████| 17/17 [00:00<00:00, 21.70it/s, loss=0.42, v_num=2, train/loss_step=0.393, train/loss_epoch=0.435, test/loss_step=0.908, test/acc_step=0.581, test/loss_epoch=0.922, test/acc_epoch=0.567]\u001b[A\n",
      "Epoch 15:  88%|███████ | 15/17 [00:00<00:00, 19.89it/s, loss=0.385, v_num=2, train/loss_step=0.357, train/loss_epoch=0.400, test/loss_step=0.908, test/acc_step=0.581, test/loss_epoch=0.922, test/acc_epoch=0.567]\u001b[A\n",
      "Validation: 0it [00:00, ?it/s]\u001b[A\n"
     ]
    },
    {
     "name": "stdout",
     "output_type": "stream",
     "text": [
      "Validation:   0%|                                                                                                                                                                            | 0/2 [00:00<?, ?it/s]\u001b[A\n",
      "Validation DataLoader 0:   0%|                                                                                                                                                               | 0/2 [00:00<?, ?it/s]\u001b[A\n",
      "Epoch 15:  94%|███████▌| 16/17 [00:00<00:00, 19.75it/s, loss=0.385, v_num=2, train/loss_step=0.357, train/loss_epoch=0.400, test/loss_step=0.908, test/acc_step=0.581, test/loss_epoch=0.922, test/acc_epoch=0.567]\u001b[A\n",
      "Epoch 15: 100%|████████| 17/17 [00:00<00:00, 20.46it/s, loss=0.385, v_num=2, train/loss_step=0.357, train/loss_epoch=0.400, test/loss_step=0.955, test/acc_step=0.576, test/loss_epoch=0.966, test/acc_epoch=0.564]\u001b[A\n",
      "Epoch 17:  88%|███████▉ | 15/17 [00:00<00:00, 21.31it/s, loss=0.35, v_num=2, train/loss_step=0.322, train/loss_epoch=0.366, test/loss_step=0.955, test/acc_step=0.576, test/loss_epoch=0.966, test/acc_epoch=0.564]\u001b[A\n",
      "Validation: 0it [00:00, ?it/s]\u001b[A\n",
      "Validation:   0%|                                                                                                                                                                            | 0/2 [00:00<?, ?it/s]\u001b[A\n",
      "Validation DataLoader 0:   0%|                                                                                                                                                               | 0/2 [00:00<?, ?it/s]\u001b[A\n",
      "Epoch 17:  94%|████████▍| 16/17 [00:00<00:00, 21.12it/s, loss=0.35, v_num=2, train/loss_step=0.322, train/loss_epoch=0.366, test/loss_step=0.955, test/acc_step=0.576, test/loss_epoch=0.966, test/acc_epoch=0.564]\u001b[A\n",
      "Epoch 17: 100%|█████████| 17/17 [00:00<00:00, 21.88it/s, loss=0.35, v_num=2, train/loss_step=0.322, train/loss_epoch=0.366, test/loss_step=1.000, test/acc_step=0.572, test/loss_epoch=1.010, test/acc_epoch=0.566]\u001b[A\n",
      "Epoch 19:  88%|███████ | 15/17 [00:00<00:00, 20.97it/s, loss=0.321, v_num=2, train/loss_step=0.294, train/loss_epoch=0.332, test/loss_step=1.000, test/acc_step=0.572, test/loss_epoch=1.010, test/acc_epoch=0.566]\u001b[A\n",
      "Validation: 0it [00:00, ?it/s]\u001b[A\n",
      "Validation:   0%|                                                                                                                                                                            | 0/2 [00:00<?, ?it/s]\u001b[A\n",
      "Validation DataLoader 0:   0%|                                                                                                                                                               | 0/2 [00:00<?, ?it/s]\u001b[A\n",
      "Epoch 19:  94%|███████▌| 16/17 [00:00<00:00, 20.55it/s, loss=0.321, v_num=2, train/loss_step=0.294, train/loss_epoch=0.332, test/loss_step=1.000, test/acc_step=0.572, test/loss_epoch=1.010, test/acc_epoch=0.566]\u001b[A\n",
      "Epoch 19: 100%|████████| 17/17 [00:00<00:00, 21.31it/s, loss=0.321, v_num=2, train/loss_step=0.294, train/loss_epoch=0.332, test/loss_step=1.050, test/acc_step=0.579, test/loss_epoch=1.060, test/acc_epoch=0.575]\u001b[A\n",
      "Epoch 21:  88%|███████ | 15/17 [00:00<00:00, 21.36it/s, loss=0.293, v_num=2, train/loss_step=0.261, train/loss_epoch=0.307, test/loss_step=1.050, test/acc_step=0.579, test/loss_epoch=1.060, test/acc_epoch=0.575]\u001b[A\n",
      "Validation: 0it [00:00, ?it/s]\u001b[A\n",
      "Validation:   0%|                                                                                                                                                                            | 0/2 [00:00<?, ?it/s]\u001b[A\n",
      "Validation DataLoader 0:   0%|                                                                                                                                                               | 0/2 [00:00<?, ?it/s]\u001b[A\n",
      "Epoch 21:  94%|███████▌| 16/17 [00:00<00:00, 21.25it/s, loss=0.293, v_num=2, train/loss_step=0.261, train/loss_epoch=0.307, test/loss_step=1.050, test/acc_step=0.579, test/loss_epoch=1.060, test/acc_epoch=0.575]\u001b[A\n",
      "Epoch 21: 100%|████████| 17/17 [00:00<00:00, 22.01it/s, loss=0.293, v_num=2, train/loss_step=0.261, train/loss_epoch=0.307, test/loss_step=1.100, test/acc_step=0.572, test/loss_epoch=1.100, test/acc_epoch=0.571]\u001b[A\n",
      "Epoch 23:  88%|███████▉ | 15/17 [00:00<00:00, 19.75it/s, loss=0.26, v_num=2, train/loss_step=0.234, train/loss_epoch=0.275, test/loss_step=1.100, test/acc_step=0.572, test/loss_epoch=1.100, test/acc_epoch=0.571]\u001b[A\n",
      "Validation: 0it [00:00, ?it/s]\u001b[A\n",
      "Validation:   0%|                                                                                                                                                                            | 0/2 [00:00<?, ?it/s]\u001b[A\n",
      "Validation DataLoader 0:   0%|                                                                                                                                                               | 0/2 [00:00<?, ?it/s]\u001b[A\n",
      "Epoch 23:  94%|████████▍| 16/17 [00:00<00:00, 19.77it/s, loss=0.26, v_num=2, train/loss_step=0.234, train/loss_epoch=0.275, test/loss_step=1.100, test/acc_step=0.572, test/loss_epoch=1.100, test/acc_epoch=0.571]\u001b[A\n",
      "Epoch 23: 100%|█████████| 17/17 [00:00<00:00, 20.62it/s, loss=0.26, v_num=2, train/loss_step=0.234, train/loss_epoch=0.275, test/loss_step=1.150, test/acc_step=0.552, test/loss_epoch=1.150, test/acc_epoch=0.567]\u001b[A\n",
      "Epoch 25:  88%|███████ | 15/17 [00:00<00:00, 21.32it/s, loss=0.234, v_num=2, train/loss_step=0.210, train/loss_epoch=0.247, test/loss_step=1.150, test/acc_step=0.552, test/loss_epoch=1.150, test/acc_epoch=0.567]\u001b[A\n",
      "Validation: 0it [00:00, ?it/s]\u001b[A\n",
      "Validation:   0%|                                                                                                                                                                            | 0/2 [00:00<?, ?it/s]\u001b[A\n",
      "Validation DataLoader 0:   0%|                                                                                                                                                               | 0/2 [00:00<?, ?it/s]\u001b[A\n",
      "Epoch 25:  94%|███████▌| 16/17 [00:00<00:00, 21.15it/s, loss=0.234, v_num=2, train/loss_step=0.210, train/loss_epoch=0.247, test/loss_step=1.150, test/acc_step=0.552, test/loss_epoch=1.150, test/acc_epoch=0.567]\u001b[A\n",
      "Epoch 25: 100%|████████| 17/17 [00:00<00:00, 22.02it/s, loss=0.234, v_num=2, train/loss_step=0.210, train/loss_epoch=0.247, test/loss_step=1.210, test/acc_step=0.552, test/loss_epoch=1.200, test/acc_epoch=0.565]\u001b[A\n",
      "Epoch 27:  88%|███████▉ | 15/17 [00:00<00:00, 21.43it/s, loss=0.21, v_num=2, train/loss_step=0.189, train/loss_epoch=0.222, test/loss_step=1.210, test/acc_step=0.552, test/loss_epoch=1.200, test/acc_epoch=0.565]\u001b[A\n",
      "Validation: 0it [00:00, ?it/s]\u001b[A\n",
      "Validation:   0%|                                                                                                                                                                            | 0/2 [00:00<?, ?it/s]\u001b[A\n",
      "Validation DataLoader 0:   0%|                                                                                                                                                               | 0/2 [00:00<?, ?it/s]\u001b[A\n",
      "Epoch 27:  94%|████████▍| 16/17 [00:00<00:00, 21.16it/s, loss=0.21, v_num=2, train/loss_step=0.189, train/loss_epoch=0.222, test/loss_step=1.210, test/acc_step=0.552, test/loss_epoch=1.200, test/acc_epoch=0.565]\u001b[A\n",
      "Epoch 27: 100%|█████████| 17/17 [00:00<00:00, 21.91it/s, loss=0.21, v_num=2, train/loss_step=0.189, train/loss_epoch=0.222, test/loss_step=1.260, test/acc_step=0.552, test/loss_epoch=1.250, test/acc_epoch=0.563]\u001b[A\n",
      "Epoch 29:  88%|███████ | 15/17 [00:00<00:00, 22.09it/s, loss=0.189, v_num=2, train/loss_step=0.169, train/loss_epoch=0.200, test/loss_step=1.260, test/acc_step=0.552, test/loss_epoch=1.250, test/acc_epoch=0.563]\u001b[A\n",
      "Validation: 0it [00:00, ?it/s]\u001b[A\n",
      "Validation:   0%|                                                                                                                                                                            | 0/2 [00:00<?, ?it/s]\u001b[A\n",
      "Validation DataLoader 0:   0%|                                                                                                                                                               | 0/2 [00:00<?, ?it/s]\u001b[A\n"
     ]
    },
    {
     "name": "stdout",
     "output_type": "stream",
     "text": [
      "Epoch 29:  94%|███████▌| 16/17 [00:00<00:00, 21.66it/s, loss=0.189, v_num=2, train/loss_step=0.169, train/loss_epoch=0.200, test/loss_step=1.260, test/acc_step=0.552, test/loss_epoch=1.250, test/acc_epoch=0.563]\u001b[A\n",
      "Epoch 29: 100%|████████| 17/17 [00:00<00:00, 22.43it/s, loss=0.189, v_num=2, train/loss_step=0.169, train/loss_epoch=0.200, test/loss_step=1.330, test/acc_step=0.558, test/loss_epoch=1.310, test/acc_epoch=0.564]\u001b[A\n",
      "Epoch 31:  88%|███████ | 15/17 [00:00<00:00, 21.80it/s, loss=0.167, v_num=2, train/loss_step=0.149, train/loss_epoch=0.178, test/loss_step=1.330, test/acc_step=0.558, test/loss_epoch=1.310, test/acc_epoch=0.564]\u001b[A\n",
      "Validation: 0it [00:00, ?it/s]\u001b[A\n",
      "Validation:   0%|                                                                                                                                                                            | 0/2 [00:00<?, ?it/s]\u001b[A\n",
      "Validation DataLoader 0:   0%|                                                                                                                                                               | 0/2 [00:00<?, ?it/s]\u001b[A\n",
      "Epoch 31:  94%|███████▌| 16/17 [00:00<00:00, 21.46it/s, loss=0.167, v_num=2, train/loss_step=0.149, train/loss_epoch=0.178, test/loss_step=1.330, test/acc_step=0.558, test/loss_epoch=1.310, test/acc_epoch=0.564]\u001b[A\n",
      "Epoch 31: 100%|████████| 17/17 [00:00<00:00, 22.24it/s, loss=0.167, v_num=2, train/loss_step=0.149, train/loss_epoch=0.178, test/loss_step=1.380, test/acc_step=0.554, test/loss_epoch=1.360, test/acc_epoch=0.563]\u001b[A\n",
      "Epoch 33:  88%|███████ | 15/17 [00:00<00:00, 21.28it/s, loss=0.146, v_num=2, train/loss_step=0.131, train/loss_epoch=0.156, test/loss_step=1.380, test/acc_step=0.554, test/loss_epoch=1.360, test/acc_epoch=0.563]\u001b[A\n",
      "Validation: 0it [00:00, ?it/s]\u001b[A\n",
      "Validation:   0%|                                                                                                                                                                            | 0/2 [00:00<?, ?it/s]\u001b[A\n",
      "Validation DataLoader 0:   0%|                                                                                                                                                               | 0/2 [00:00<?, ?it/s]\u001b[A\n",
      "Epoch 33:  94%|███████▌| 16/17 [00:00<00:00, 21.02it/s, loss=0.146, v_num=2, train/loss_step=0.131, train/loss_epoch=0.156, test/loss_step=1.380, test/acc_step=0.554, test/loss_epoch=1.360, test/acc_epoch=0.563]\u001b[A\n",
      "Epoch 33: 100%|████████| 17/17 [00:00<00:00, 21.77it/s, loss=0.146, v_num=2, train/loss_step=0.131, train/loss_epoch=0.156, test/loss_step=1.450, test/acc_step=0.547, test/loss_epoch=1.420, test/acc_epoch=0.559]\u001b[A\n",
      "Epoch 35:  88%|███████ | 15/17 [00:00<00:00, 22.79it/s, loss=0.127, v_num=2, train/loss_step=0.114, train/loss_epoch=0.137, test/loss_step=1.450, test/acc_step=0.547, test/loss_epoch=1.420, test/acc_epoch=0.559]\u001b[A\n",
      "Validation: 0it [00:00, ?it/s]\u001b[A\n",
      "Validation:   0%|                                                                                                                                                                            | 0/2 [00:00<?, ?it/s]\u001b[A\n",
      "Validation DataLoader 0:   0%|                                                                                                                                                               | 0/2 [00:00<?, ?it/s]\u001b[A\n",
      "Epoch 35:  94%|███████▌| 16/17 [00:00<00:00, 22.56it/s, loss=0.127, v_num=2, train/loss_step=0.114, train/loss_epoch=0.137, test/loss_step=1.450, test/acc_step=0.547, test/loss_epoch=1.420, test/acc_epoch=0.559]\u001b[A\n",
      "Epoch 35: 100%|████████| 17/17 [00:00<00:00, 23.48it/s, loss=0.127, v_num=2, train/loss_step=0.114, train/loss_epoch=0.137, test/loss_step=1.510, test/acc_step=0.547, test/loss_epoch=1.490, test/acc_epoch=0.559]\u001b[A\n",
      "Epoch 37:  88%|██████▏| 15/17 [00:00<00:00, 21.34it/s, loss=0.109, v_num=2, train/loss_step=0.0988, train/loss_epoch=0.118, test/loss_step=1.510, test/acc_step=0.547, test/loss_epoch=1.490, test/acc_epoch=0.559]\u001b[A\n",
      "Validation: 0it [00:00, ?it/s]\u001b[A\n",
      "Validation:   0%|                                                                                                                                                                            | 0/2 [00:00<?, ?it/s]\u001b[A\n",
      "Validation DataLoader 0:   0%|                                                                                                                                                               | 0/2 [00:00<?, ?it/s]\u001b[A\n",
      "Epoch 37:  94%|██████▌| 16/17 [00:00<00:00, 20.93it/s, loss=0.109, v_num=2, train/loss_step=0.0988, train/loss_epoch=0.118, test/loss_step=1.510, test/acc_step=0.547, test/loss_epoch=1.490, test/acc_epoch=0.559]\u001b[A\n",
      "Epoch 37: 100%|███████| 17/17 [00:00<00:00, 21.65it/s, loss=0.109, v_num=2, train/loss_step=0.0988, train/loss_epoch=0.118, test/loss_step=1.580, test/acc_step=0.549, test/loss_epoch=1.560, test/acc_epoch=0.554]\u001b[A\n",
      "Epoch 39:  88%|██████▏| 15/17 [00:00<00:00, 18.58it/s, loss=0.0928, v_num=2, train/loss_step=0.084, train/loss_epoch=0.101, test/loss_step=1.580, test/acc_step=0.549, test/loss_epoch=1.560, test/acc_epoch=0.554]\u001b[A\n",
      "Validation: 0it [00:00, ?it/s]\u001b[A\n",
      "Validation:   0%|                                                                                                                                                                            | 0/2 [00:00<?, ?it/s]\u001b[A\n",
      "Validation DataLoader 0:   0%|                                                                                                                                                               | 0/2 [00:00<?, ?it/s]\u001b[A\n",
      "Epoch 39:  94%|██████▌| 16/17 [00:00<00:00, 18.42it/s, loss=0.0928, v_num=2, train/loss_step=0.084, train/loss_epoch=0.101, test/loss_step=1.580, test/acc_step=0.549, test/loss_epoch=1.560, test/acc_epoch=0.554]\u001b[A\n",
      "Epoch 39: 100%|███████| 17/17 [00:00<00:00, 19.08it/s, loss=0.0928, v_num=2, train/loss_step=0.084, train/loss_epoch=0.101, test/loss_step=1.660, test/acc_step=0.548, test/loss_epoch=1.630, test/acc_epoch=0.550]\u001b[A\n",
      "Epoch 41:  88%|████▍| 15/17 [00:00<00:00, 23.00it/s, loss=0.0778, v_num=2, train/loss_step=0.0701, train/loss_epoch=0.0853, test/loss_step=1.660, test/acc_step=0.548, test/loss_epoch=1.630, test/acc_epoch=0.550]\u001b[A\n",
      "Validation: 0it [00:00, ?it/s]\u001b[A\n",
      "Validation:   0%|                                                                                                                                                                            | 0/2 [00:00<?, ?it/s]\u001b[A\n",
      "Validation DataLoader 0:   0%|                                                                                                                                                               | 0/2 [00:00<?, ?it/s]\u001b[A\n",
      "Epoch 41:  94%|████▋| 16/17 [00:00<00:00, 22.75it/s, loss=0.0778, v_num=2, train/loss_step=0.0701, train/loss_epoch=0.0853, test/loss_step=1.660, test/acc_step=0.548, test/loss_epoch=1.630, test/acc_epoch=0.550]\u001b[A\n",
      "Epoch 41: 100%|█████| 17/17 [00:00<00:00, 23.67it/s, loss=0.0778, v_num=2, train/loss_step=0.0701, train/loss_epoch=0.0853, test/loss_step=1.730, test/acc_step=0.551, test/loss_epoch=1.700, test/acc_epoch=0.549]\u001b[A\n",
      "Epoch 43:  88%|████▍| 15/17 [00:00<00:00, 21.51it/s, loss=0.0643, v_num=2, train/loss_step=0.0576, train/loss_epoch=0.0709, test/loss_step=1.730, test/acc_step=0.551, test/loss_epoch=1.700, test/acc_epoch=0.549]\u001b[A\n",
      "Validation: 0it [00:00, ?it/s]\u001b[A\n",
      "Validation:   0%|                                                                                                                                                                            | 0/2 [00:00<?, ?it/s]\u001b[A\n",
      "Validation DataLoader 0:   0%|                                                                                                                                                               | 0/2 [00:00<?, ?it/s]\u001b[A\n",
      "Epoch 43:  94%|████▋| 16/17 [00:00<00:00, 21.13it/s, loss=0.0643, v_num=2, train/loss_step=0.0576, train/loss_epoch=0.0709, test/loss_step=1.730, test/acc_step=0.551, test/loss_epoch=1.700, test/acc_epoch=0.549]\u001b[A\n",
      "Epoch 43: 100%|█████| 17/17 [00:00<00:00, 21.89it/s, loss=0.0643, v_num=2, train/loss_step=0.0576, train/loss_epoch=0.0709, test/loss_step=1.810, test/acc_step=0.552, test/loss_epoch=1.780, test/acc_epoch=0.550]\u001b[A\n"
     ]
    },
    {
     "name": "stdout",
     "output_type": "stream",
     "text": [
      "Epoch 45:  88%|████▍| 15/17 [00:00<00:00, 19.08it/s, loss=0.0526, v_num=2, train/loss_step=0.0468, train/loss_epoch=0.0582, test/loss_step=1.810, test/acc_step=0.552, test/loss_epoch=1.780, test/acc_epoch=0.550]\u001b[A\n",
      "Validation: 0it [00:00, ?it/s]\u001b[A\n",
      "Validation:   0%|                                                                                                                                                                            | 0/2 [00:00<?, ?it/s]\u001b[A\n",
      "Validation DataLoader 0:   0%|                                                                                                                                                               | 0/2 [00:00<?, ?it/s]\u001b[A\n",
      "Epoch 45:  94%|████▋| 16/17 [00:00<00:00, 18.93it/s, loss=0.0526, v_num=2, train/loss_step=0.0468, train/loss_epoch=0.0582, test/loss_step=1.810, test/acc_step=0.552, test/loss_epoch=1.780, test/acc_epoch=0.550]\u001b[A\n",
      "Epoch 45: 100%|█████| 17/17 [00:00<00:00, 19.60it/s, loss=0.0526, v_num=2, train/loss_step=0.0468, train/loss_epoch=0.0582, test/loss_step=1.900, test/acc_step=0.554, test/loss_epoch=1.870, test/acc_epoch=0.549]\u001b[A\n",
      "Epoch 47:  88%|████▍| 15/17 [00:00<00:00, 22.49it/s, loss=0.0426, v_num=2, train/loss_step=0.0377, train/loss_epoch=0.0473, test/loss_step=1.900, test/acc_step=0.554, test/loss_epoch=1.870, test/acc_epoch=0.549]\u001b[A\n",
      "Validation: 0it [00:00, ?it/s]\u001b[A\n",
      "Validation:   0%|                                                                                                                                                                            | 0/2 [00:00<?, ?it/s]\u001b[A\n",
      "Validation DataLoader 0:   0%|                                                                                                                                                               | 0/2 [00:00<?, ?it/s]\u001b[A\n",
      "Epoch 47:  94%|████▋| 16/17 [00:00<00:00, 22.14it/s, loss=0.0426, v_num=2, train/loss_step=0.0377, train/loss_epoch=0.0473, test/loss_step=1.900, test/acc_step=0.554, test/loss_epoch=1.870, test/acc_epoch=0.549]\u001b[A\n",
      "Epoch 47: 100%|█████| 17/17 [00:00<00:00, 22.87it/s, loss=0.0426, v_num=2, train/loss_step=0.0377, train/loss_epoch=0.0473, test/loss_step=1.990, test/acc_step=0.547, test/loss_epoch=1.960, test/acc_epoch=0.547]\u001b[A\n",
      "Epoch 49:  88%|█████▎| 15/17 [00:00<00:00, 22.19it/s, loss=0.0342, v_num=2, train/loss_step=0.0302, train/loss_epoch=0.038, test/loss_step=1.990, test/acc_step=0.547, test/loss_epoch=1.960, test/acc_epoch=0.547]\u001b[A\n",
      "Validation: 0it [00:00, ?it/s]\u001b[A\n",
      "Validation:   0%|                                                                                                                                                                            | 0/2 [00:00<?, ?it/s]\u001b[A\n",
      "Validation DataLoader 0:   0%|                                                                                                                                                               | 0/2 [00:00<?, ?it/s]\u001b[A\n",
      "Epoch 49:  94%|█████▋| 16/17 [00:00<00:00, 21.75it/s, loss=0.0342, v_num=2, train/loss_step=0.0302, train/loss_epoch=0.038, test/loss_step=1.990, test/acc_step=0.547, test/loss_epoch=1.960, test/acc_epoch=0.547]\u001b[A\n",
      "Epoch 49: 100%|██████| 17/17 [00:00<00:00, 22.47it/s, loss=0.0342, v_num=2, train/loss_step=0.0302, train/loss_epoch=0.038, test/loss_step=2.080, test/acc_step=0.545, test/loss_epoch=2.050, test/acc_epoch=0.546]\u001b[A\n",
      "Epoch 51:  88%|█████▎| 15/17 [00:00<00:00, 18.49it/s, loss=0.0273, v_num=2, train/loss_step=0.024, train/loss_epoch=0.0304, test/loss_step=2.080, test/acc_step=0.545, test/loss_epoch=2.050, test/acc_epoch=0.546]\u001b[A\n",
      "Validation: 0it [00:00, ?it/s]\u001b[A\n",
      "Validation:   0%|                                                                                                                                                                            | 0/2 [00:00<?, ?it/s]\u001b[A\n",
      "Validation DataLoader 0:   0%|                                                                                                                                                               | 0/2 [00:00<?, ?it/s]\u001b[A\n",
      "Epoch 51:  94%|█████▋| 16/17 [00:00<00:00, 18.01it/s, loss=0.0273, v_num=2, train/loss_step=0.024, train/loss_epoch=0.0304, test/loss_step=2.080, test/acc_step=0.545, test/loss_epoch=2.050, test/acc_epoch=0.546]\u001b[A\n",
      "Epoch 51: 100%|██████| 17/17 [00:00<00:00, 18.72it/s, loss=0.0273, v_num=2, train/loss_step=0.024, train/loss_epoch=0.0304, test/loss_step=2.170, test/acc_step=0.542, test/loss_epoch=2.140, test/acc_epoch=0.543]\u001b[A\n",
      "Epoch 53:  88%|████▍| 15/17 [00:00<00:00, 20.38it/s, loss=0.0218, v_num=2, train/loss_step=0.0191, train/loss_epoch=0.0242, test/loss_step=2.170, test/acc_step=0.542, test/loss_epoch=2.140, test/acc_epoch=0.543]\u001b[A\n",
      "Validation: 0it [00:00, ?it/s]\u001b[A\n",
      "Validation:   0%|                                                                                                                                                                            | 0/2 [00:00<?, ?it/s]\u001b[A\n",
      "Validation DataLoader 0:   0%|                                                                                                                                                               | 0/2 [00:00<?, ?it/s]\u001b[A\n",
      "Epoch 53:  94%|████▋| 16/17 [00:00<00:00, 19.38it/s, loss=0.0218, v_num=2, train/loss_step=0.0191, train/loss_epoch=0.0242, test/loss_step=2.170, test/acc_step=0.542, test/loss_epoch=2.140, test/acc_epoch=0.543]\u001b[A\n",
      "Epoch 53: 100%|█████| 17/17 [00:00<00:00, 20.12it/s, loss=0.0218, v_num=2, train/loss_step=0.0191, train/loss_epoch=0.0242, test/loss_step=2.260, test/acc_step=0.542, test/loss_epoch=2.240, test/acc_epoch=0.543]\u001b[A\n",
      "Epoch 55:  88%|████▍| 15/17 [00:00<00:00, 20.55it/s, loss=0.0174, v_num=2, train/loss_step=0.0152, train/loss_epoch=0.0193, test/loss_step=2.260, test/acc_step=0.542, test/loss_epoch=2.240, test/acc_epoch=0.543]\u001b[A\n",
      "Validation: 0it [00:00, ?it/s]\u001b[A\n",
      "Validation:   0%|                                                                                                                                                                            | 0/2 [00:00<?, ?it/s]\u001b[A\n",
      "Validation DataLoader 0:   0%|                                                                                                                                                               | 0/2 [00:00<?, ?it/s]\u001b[A\n",
      "Epoch 55:  94%|████▋| 16/17 [00:00<00:00, 20.37it/s, loss=0.0174, v_num=2, train/loss_step=0.0152, train/loss_epoch=0.0193, test/loss_step=2.260, test/acc_step=0.542, test/loss_epoch=2.240, test/acc_epoch=0.543]\u001b[A\n",
      "Epoch 55: 100%|█████| 17/17 [00:00<00:00, 21.11it/s, loss=0.0174, v_num=2, train/loss_step=0.0152, train/loss_epoch=0.0193, test/loss_step=2.360, test/acc_step=0.547, test/loss_epoch=2.330, test/acc_epoch=0.544]\u001b[A\n",
      "Epoch 57:  88%|████▍| 15/17 [00:00<00:00, 19.57it/s, loss=0.0139, v_num=2, train/loss_step=0.0121, train/loss_epoch=0.0154, test/loss_step=2.360, test/acc_step=0.547, test/loss_epoch=2.330, test/acc_epoch=0.544]\u001b[A\n",
      "Validation: 0it [00:00, ?it/s]\u001b[A\n",
      "Validation:   0%|                                                                                                                                                                            | 0/2 [00:00<?, ?it/s]\u001b[A\n",
      "Validation DataLoader 0:   0%|                                                                                                                                                               | 0/2 [00:00<?, ?it/s]\u001b[A\n",
      "Epoch 57:  94%|████▋| 16/17 [00:00<00:00, 19.55it/s, loss=0.0139, v_num=2, train/loss_step=0.0121, train/loss_epoch=0.0154, test/loss_step=2.360, test/acc_step=0.547, test/loss_epoch=2.330, test/acc_epoch=0.544]\u001b[A\n",
      "Epoch 57: 100%|█████| 17/17 [00:00<00:00, 20.30it/s, loss=0.0139, v_num=2, train/loss_step=0.0121, train/loss_epoch=0.0154, test/loss_step=2.440, test/acc_step=0.548, test/loss_epoch=2.420, test/acc_epoch=0.547]\u001b[A\n",
      "Epoch 59:  88%|███▌| 15/17 [00:00<00:00, 19.54it/s, loss=0.0112, v_num=2, train/loss_step=0.00972, train/loss_epoch=0.0124, test/loss_step=2.440, test/acc_step=0.548, test/loss_epoch=2.420, test/acc_epoch=0.547]\u001b[A\n",
      "Validation: 0it [00:00, ?it/s]\u001b[A\n"
     ]
    },
    {
     "name": "stdout",
     "output_type": "stream",
     "text": [
      "Validation:   0%|                                                                                                                                                                            | 0/2 [00:00<?, ?it/s]\u001b[A\n",
      "Validation DataLoader 0:   0%|                                                                                                                                                               | 0/2 [00:00<?, ?it/s]\u001b[A\n",
      "Epoch 59:  94%|███▊| 16/17 [00:00<00:00, 19.25it/s, loss=0.0112, v_num=2, train/loss_step=0.00972, train/loss_epoch=0.0124, test/loss_step=2.440, test/acc_step=0.548, test/loss_epoch=2.420, test/acc_epoch=0.547]\u001b[A\n",
      "Epoch 59: 100%|████| 17/17 [00:00<00:00, 20.00it/s, loss=0.0112, v_num=2, train/loss_step=0.00972, train/loss_epoch=0.0124, test/loss_step=2.530, test/acc_step=0.548, test/loss_epoch=2.510, test/acc_epoch=0.547]\u001b[A\n",
      "Epoch 61:  88%|█▊| 15/17 [00:00<00:00, 17.86it/s, loss=0.00906, v_num=2, train/loss_step=0.00783, train/loss_epoch=0.00996, test/loss_step=2.530, test/acc_step=0.548, test/loss_epoch=2.510, test/acc_epoch=0.547]\u001b[A\n",
      "Validation: 0it [00:00, ?it/s]\u001b[A\n",
      "Validation:   0%|                                                                                                                                                                            | 0/2 [00:00<?, ?it/s]\u001b[A\n",
      "Validation DataLoader 0:   0%|                                                                                                                                                               | 0/2 [00:00<?, ?it/s]\u001b[A\n",
      "Epoch 61:  94%|█▉| 16/17 [00:00<00:00, 17.87it/s, loss=0.00906, v_num=2, train/loss_step=0.00783, train/loss_epoch=0.00996, test/loss_step=2.530, test/acc_step=0.548, test/loss_epoch=2.510, test/acc_epoch=0.547]\u001b[A\n",
      "Epoch 61: 100%|██| 17/17 [00:00<00:00, 18.57it/s, loss=0.00906, v_num=2, train/loss_step=0.00783, train/loss_epoch=0.00996, test/loss_step=2.620, test/acc_step=0.548, test/loss_epoch=2.590, test/acc_epoch=0.548]\u001b[A\n",
      "Epoch 63:  88%|█▊| 15/17 [00:00<00:00, 18.72it/s, loss=0.00736, v_num=2, train/loss_step=0.00634, train/loss_epoch=0.00807, test/loss_step=2.620, test/acc_step=0.548, test/loss_epoch=2.590, test/acc_epoch=0.548]\u001b[A\n",
      "Validation: 0it [00:00, ?it/s]\u001b[A\n",
      "Validation:   0%|                                                                                                                                                                            | 0/2 [00:00<?, ?it/s]\u001b[A\n",
      "Validation DataLoader 0:   0%|                                                                                                                                                               | 0/2 [00:00<?, ?it/s]\u001b[A\n",
      "Epoch 63:  94%|█▉| 16/17 [00:00<00:00, 18.53it/s, loss=0.00736, v_num=2, train/loss_step=0.00634, train/loss_epoch=0.00807, test/loss_step=2.620, test/acc_step=0.548, test/loss_epoch=2.590, test/acc_epoch=0.548]\u001b[A\n",
      "Epoch 63: 100%|██| 17/17 [00:00<00:00, 19.11it/s, loss=0.00736, v_num=2, train/loss_step=0.00634, train/loss_epoch=0.00807, test/loss_step=2.700, test/acc_step=0.552, test/loss_epoch=2.670, test/acc_epoch=0.551]\u001b[A\n",
      "Epoch 65:  88%|█▊| 15/17 [00:00<00:00, 20.93it/s, loss=0.00601, v_num=2, train/loss_step=0.00516, train/loss_epoch=0.00658, test/loss_step=2.700, test/acc_step=0.552, test/loss_epoch=2.670, test/acc_epoch=0.551]\u001b[A\n",
      "Validation: 0it [00:00, ?it/s]\u001b[A\n",
      "Validation:   0%|                                                                                                                                                                            | 0/2 [00:00<?, ?it/s]\u001b[A\n",
      "Validation DataLoader 0:   0%|                                                                                                                                                               | 0/2 [00:00<?, ?it/s]\u001b[A\n",
      "Epoch 65:  94%|█▉| 16/17 [00:00<00:00, 20.59it/s, loss=0.00601, v_num=2, train/loss_step=0.00516, train/loss_epoch=0.00658, test/loss_step=2.700, test/acc_step=0.552, test/loss_epoch=2.670, test/acc_epoch=0.551]\u001b[A\n",
      "Epoch 65: 100%|██| 17/17 [00:00<00:00, 21.34it/s, loss=0.00601, v_num=2, train/loss_step=0.00516, train/loss_epoch=0.00658, test/loss_step=2.780, test/acc_step=0.555, test/loss_epoch=2.760, test/acc_epoch=0.553]\u001b[A\n",
      "Epoch 67:  88%|█▊| 15/17 [00:00<00:00, 19.70it/s, loss=0.00492, v_num=2, train/loss_step=0.00422, train/loss_epoch=0.00538, test/loss_step=2.780, test/acc_step=0.555, test/loss_epoch=2.760, test/acc_epoch=0.553]\u001b[A\n",
      "Validation: 0it [00:00, ?it/s]\u001b[A\n",
      "Validation:   0%|                                                                                                                                                                            | 0/2 [00:00<?, ?it/s]\u001b[A\n",
      "Validation DataLoader 0:   0%|                                                                                                                                                               | 0/2 [00:00<?, ?it/s]\u001b[A\n",
      "Epoch 67:  94%|█▉| 16/17 [00:00<00:00, 19.40it/s, loss=0.00492, v_num=2, train/loss_step=0.00422, train/loss_epoch=0.00538, test/loss_step=2.780, test/acc_step=0.555, test/loss_epoch=2.760, test/acc_epoch=0.553]\u001b[A\n",
      "Epoch 67: 100%|██| 17/17 [00:00<00:00, 20.13it/s, loss=0.00492, v_num=2, train/loss_step=0.00422, train/loss_epoch=0.00538, test/loss_step=2.860, test/acc_step=0.554, test/loss_epoch=2.830, test/acc_epoch=0.553]\u001b[A\n",
      "Epoch 69:  88%|█▊| 15/17 [00:00<00:00, 22.91it/s, loss=0.00405, v_num=2, train/loss_step=0.00346, train/loss_epoch=0.00442, test/loss_step=2.860, test/acc_step=0.554, test/loss_epoch=2.830, test/acc_epoch=0.553]\u001b[A\n",
      "Validation: 0it [00:00, ?it/s]\u001b[A\n",
      "Validation:   0%|                                                                                                                                                                            | 0/2 [00:00<?, ?it/s]\u001b[A\n",
      "Validation DataLoader 0:   0%|                                                                                                                                                               | 0/2 [00:00<?, ?it/s]\u001b[A\n",
      "Epoch 69:  94%|█▉| 16/17 [00:00<00:00, 22.40it/s, loss=0.00405, v_num=2, train/loss_step=0.00346, train/loss_epoch=0.00442, test/loss_step=2.860, test/acc_step=0.554, test/loss_epoch=2.830, test/acc_epoch=0.553]\u001b[A\n",
      "Epoch 69: 100%|██| 17/17 [00:00<00:00, 23.18it/s, loss=0.00405, v_num=2, train/loss_step=0.00346, train/loss_epoch=0.00442, test/loss_step=2.940, test/acc_step=0.554, test/loss_epoch=2.910, test/acc_epoch=0.554]\u001b[A\n",
      "Epoch 71:  88%|█▊| 15/17 [00:00<00:00, 19.47it/s, loss=0.00334, v_num=2, train/loss_step=0.00285, train/loss_epoch=0.00364, test/loss_step=2.940, test/acc_step=0.554, test/loss_epoch=2.910, test/acc_epoch=0.554]\u001b[A\n",
      "Validation: 0it [00:00, ?it/s]\u001b[A\n",
      "Validation:   0%|                                                                                                                                                                            | 0/2 [00:00<?, ?it/s]\u001b[A\n",
      "Validation DataLoader 0:   0%|                                                                                                                                                               | 0/2 [00:00<?, ?it/s]\u001b[A\n",
      "Epoch 71:  94%|█▉| 16/17 [00:00<00:00, 19.30it/s, loss=0.00334, v_num=2, train/loss_step=0.00285, train/loss_epoch=0.00364, test/loss_step=2.940, test/acc_step=0.554, test/loss_epoch=2.910, test/acc_epoch=0.554]\u001b[A\n",
      "Epoch 71: 100%|██| 17/17 [00:00<00:00, 20.12it/s, loss=0.00334, v_num=2, train/loss_step=0.00285, train/loss_epoch=0.00364, test/loss_step=3.010, test/acc_step=0.554, test/loss_epoch=2.990, test/acc_epoch=0.554]\u001b[A\n",
      "Epoch 73:  88%|███▌| 15/17 [00:00<00:00, 18.32it/s, loss=0.00276, v_num=2, train/loss_step=0.00236, train/loss_epoch=0.003, test/loss_step=3.010, test/acc_step=0.554, test/loss_epoch=2.990, test/acc_epoch=0.554]\u001b[A\n",
      "Validation: 0it [00:00, ?it/s]\u001b[A\n",
      "Validation:   0%|                                                                                                                                                                            | 0/2 [00:00<?, ?it/s]\u001b[A\n",
      "Validation DataLoader 0:   0%|                                                                                                                                                               | 0/2 [00:00<?, ?it/s]\u001b[A\n"
     ]
    },
    {
     "name": "stdout",
     "output_type": "stream",
     "text": [
      "Epoch 73:  94%|███▊| 16/17 [00:00<00:00, 18.18it/s, loss=0.00276, v_num=2, train/loss_step=0.00236, train/loss_epoch=0.003, test/loss_step=3.010, test/acc_step=0.554, test/loss_epoch=2.990, test/acc_epoch=0.554]\u001b[A\n",
      "Epoch 73: 100%|████| 17/17 [00:00<00:00, 18.89it/s, loss=0.00276, v_num=2, train/loss_step=0.00236, train/loss_epoch=0.003, test/loss_step=3.090, test/acc_step=0.552, test/loss_epoch=3.060, test/acc_epoch=0.554]\u001b[A\n",
      "Epoch 75:  88%|█▊| 15/17 [00:00<00:00, 18.93it/s, loss=0.00229, v_num=2, train/loss_step=0.00195, train/loss_epoch=0.00249, test/loss_step=3.090, test/acc_step=0.552, test/loss_epoch=3.060, test/acc_epoch=0.554]\u001b[A\n",
      "Validation: 0it [00:00, ?it/s]\u001b[A\n",
      "Validation:   0%|                                                                                                                                                                            | 0/2 [00:00<?, ?it/s]\u001b[A\n",
      "Validation DataLoader 0:   0%|                                                                                                                                                               | 0/2 [00:00<?, ?it/s]\u001b[A\n",
      "Epoch 75:  94%|█▉| 16/17 [00:00<00:00, 18.80it/s, loss=0.00229, v_num=2, train/loss_step=0.00195, train/loss_epoch=0.00249, test/loss_step=3.090, test/acc_step=0.552, test/loss_epoch=3.060, test/acc_epoch=0.554]\u001b[A\n",
      "Epoch 75: 100%|██| 17/17 [00:00<00:00, 19.54it/s, loss=0.00229, v_num=2, train/loss_step=0.00195, train/loss_epoch=0.00249, test/loss_step=3.160, test/acc_step=0.548, test/loss_epoch=3.130, test/acc_epoch=0.552]\u001b[A\n",
      "Epoch 77:  88%|██▋| 15/17 [00:00<00:00, 19.68it/s, loss=0.0019, v_num=2, train/loss_step=0.00162, train/loss_epoch=0.00206, test/loss_step=3.160, test/acc_step=0.548, test/loss_epoch=3.130, test/acc_epoch=0.552]\u001b[A\n",
      "Validation: 0it [00:00, ?it/s]\u001b[A\n",
      "Validation:   0%|                                                                                                                                                                            | 0/2 [00:00<?, ?it/s]\u001b[A\n",
      "Validation DataLoader 0:   0%|                                                                                                                                                               | 0/2 [00:00<?, ?it/s]\u001b[A\n",
      "Epoch 77:  94%|██▊| 16/17 [00:00<00:00, 19.59it/s, loss=0.0019, v_num=2, train/loss_step=0.00162, train/loss_epoch=0.00206, test/loss_step=3.160, test/acc_step=0.548, test/loss_epoch=3.130, test/acc_epoch=0.552]\u001b[A\n",
      "Epoch 77: 100%|███| 17/17 [00:00<00:00, 20.34it/s, loss=0.0019, v_num=2, train/loss_step=0.00162, train/loss_epoch=0.00206, test/loss_step=3.230, test/acc_step=0.548, test/loss_epoch=3.200, test/acc_epoch=0.553]\u001b[A\n",
      "Epoch 79:  88%|█▊| 15/17 [00:00<00:00, 20.25it/s, loss=0.00158, v_num=2, train/loss_step=0.00135, train/loss_epoch=0.00173, test/loss_step=3.230, test/acc_step=0.548, test/loss_epoch=3.200, test/acc_epoch=0.553]\u001b[A\n",
      "Validation: 0it [00:00, ?it/s]\u001b[A\n",
      "Validation:   0%|                                                                                                                                                                            | 0/2 [00:00<?, ?it/s]\u001b[A\n",
      "Validation DataLoader 0:   0%|                                                                                                                                                               | 0/2 [00:00<?, ?it/s]\u001b[A\n",
      "Epoch 79:  94%|█▉| 16/17 [00:00<00:00, 20.00it/s, loss=0.00158, v_num=2, train/loss_step=0.00135, train/loss_epoch=0.00173, test/loss_step=3.230, test/acc_step=0.548, test/loss_epoch=3.200, test/acc_epoch=0.553]\u001b[A\n",
      "Epoch 79: 100%|██| 17/17 [00:00<00:00, 20.75it/s, loss=0.00158, v_num=2, train/loss_step=0.00135, train/loss_epoch=0.00173, test/loss_step=3.300, test/acc_step=0.545, test/loss_epoch=3.270, test/acc_epoch=0.552]\u001b[A\n",
      "Epoch 81:  88%|█▊| 15/17 [00:00<00:00, 18.90it/s, loss=0.00132, v_num=2, train/loss_step=0.00113, train/loss_epoch=0.00143, test/loss_step=3.300, test/acc_step=0.545, test/loss_epoch=3.270, test/acc_epoch=0.552]\u001b[A\n",
      "Validation: 0it [00:00, ?it/s]\u001b[A\n",
      "Validation:   0%|                                                                                                                                                                            | 0/2 [00:00<?, ?it/s]\u001b[A\n",
      "Validation DataLoader 0:   0%|                                                                                                                                                               | 0/2 [00:00<?, ?it/s]\u001b[A\n",
      "Epoch 81:  94%|█▉| 16/17 [00:00<00:00, 18.87it/s, loss=0.00132, v_num=2, train/loss_step=0.00113, train/loss_epoch=0.00143, test/loss_step=3.300, test/acc_step=0.545, test/loss_epoch=3.270, test/acc_epoch=0.552]\u001b[A\n",
      "Epoch 81: 100%|██| 17/17 [00:00<00:00, 19.58it/s, loss=0.00132, v_num=2, train/loss_step=0.00113, train/loss_epoch=0.00143, test/loss_step=3.370, test/acc_step=0.548, test/loss_epoch=3.340, test/acc_epoch=0.552]\u001b[A\n",
      "Epoch 83:  88%|██▋| 15/17 [00:00<00:00, 19.18it/s, loss=0.0011, v_num=2, train/loss_step=0.000941, train/loss_epoch=0.0012, test/loss_step=3.370, test/acc_step=0.548, test/loss_epoch=3.340, test/acc_epoch=0.552]\u001b[A\n",
      "Validation: 0it [00:00, ?it/s]\u001b[A\n",
      "Validation:   0%|                                                                                                                                                                            | 0/2 [00:00<?, ?it/s]\u001b[A\n",
      "Validation DataLoader 0:   0%|                                                                                                                                                               | 0/2 [00:00<?, ?it/s]\u001b[A\n",
      "Epoch 83:  94%|██▊| 16/17 [00:00<00:00, 19.06it/s, loss=0.0011, v_num=2, train/loss_step=0.000941, train/loss_epoch=0.0012, test/loss_step=3.370, test/acc_step=0.548, test/loss_epoch=3.340, test/acc_epoch=0.552]\u001b[A\n",
      "Epoch 83: 100%|███| 17/17 [00:00<00:00, 19.91it/s, loss=0.0011, v_num=2, train/loss_step=0.000941, train/loss_epoch=0.0012, test/loss_step=3.440, test/acc_step=0.548, test/loss_epoch=3.410, test/acc_epoch=0.552]\u001b[A\n",
      "Epoch 85:  88%|█▊| 15/17 [00:00<00:00, 17.70it/s, loss=0.000926, v_num=2, train/loss_step=0.000788, train/loss_epoch=0.001, test/loss_step=3.440, test/acc_step=0.548, test/loss_epoch=3.410, test/acc_epoch=0.552]\u001b[A\n",
      "Validation: 0it [00:00, ?it/s]\u001b[A\n",
      "Validation:   0%|                                                                                                                                                                            | 0/2 [00:00<?, ?it/s]\u001b[A\n",
      "Validation DataLoader 0:   0%|                                                                                                                                                               | 0/2 [00:00<?, ?it/s]\u001b[A\n",
      "Epoch 85:  94%|█▉| 16/17 [00:00<00:00, 17.78it/s, loss=0.000926, v_num=2, train/loss_step=0.000788, train/loss_epoch=0.001, test/loss_step=3.440, test/acc_step=0.548, test/loss_epoch=3.410, test/acc_epoch=0.552]\u001b[A\n",
      "Epoch 85: 100%|██| 17/17 [00:00<00:00, 18.57it/s, loss=0.000926, v_num=2, train/loss_step=0.000788, train/loss_epoch=0.001, test/loss_step=3.510, test/acc_step=0.548, test/loss_epoch=3.480, test/acc_epoch=0.552]\u001b[A\n",
      "Epoch 87:  88%|▉| 15/17 [00:00<00:00, 19.25it/s, loss=0.000786, v_num=2, train/loss_step=0.000664, train/loss_epoch=0.000849, test/loss_step=3.510, test/acc_step=0.548, test/loss_epoch=3.480, test/acc_epoch=0.55\u001b[A\n",
      "Validation: 0it [00:00, ?it/s]\u001b[A\n",
      "Validation:   0%|                                                                                                                                                                            | 0/2 [00:00<?, ?it/s]\u001b[A\n",
      "Validation DataLoader 0:   0%|                                                                                                                                                               | 0/2 [00:00<?, ?it/s]\u001b[A\n",
      "Epoch 87:  94%|▉| 16/17 [00:00<00:00, 19.18it/s, loss=0.000786, v_num=2, train/loss_step=0.000664, train/loss_epoch=0.000849, test/loss_step=3.510, test/acc_step=0.548, test/loss_epoch=3.480, test/acc_epoch=0.55\u001b[A\n",
      "Epoch 87: 100%|█| 17/17 [00:00<00:00, 20.05it/s, loss=0.000786, v_num=2, train/loss_step=0.000664, train/loss_epoch=0.000849, test/loss_step=3.570, test/acc_step=0.548, test/loss_epoch=3.540, test/acc_epoch=0.55\u001b[A\n"
     ]
    },
    {
     "name": "stdout",
     "output_type": "stream",
     "text": [
      "Epoch 89:  88%|▉| 15/17 [00:00<00:00, 20.51it/s, loss=0.000661, v_num=2, train/loss_step=0.000557, train/loss_epoch=0.000716, test/loss_step=3.570, test/acc_step=0.548, test/loss_epoch=3.540, test/acc_epoch=0.55\u001b[A\n",
      "Validation: 0it [00:00, ?it/s]\u001b[A\n",
      "Validation:   0%|                                                                                                                                                                            | 0/2 [00:00<?, ?it/s]\u001b[A\n",
      "Validation DataLoader 0:   0%|                                                                                                                                                               | 0/2 [00:00<?, ?it/s]\u001b[A\n",
      "Epoch 89:  94%|▉| 16/17 [00:00<00:00, 20.38it/s, loss=0.000661, v_num=2, train/loss_step=0.000557, train/loss_epoch=0.000716, test/loss_step=3.570, test/acc_step=0.548, test/loss_epoch=3.540, test/acc_epoch=0.55\u001b[A\n",
      "Epoch 89: 100%|█| 17/17 [00:00<00:00, 21.29it/s, loss=0.000661, v_num=2, train/loss_step=0.000557, train/loss_epoch=0.000716, test/loss_step=3.640, test/acc_step=0.547, test/loss_epoch=3.610, test/acc_epoch=0.55\u001b[A\n",
      "Epoch 91:  88%|▉| 15/17 [00:00<00:00, 22.01it/s, loss=0.000559, v_num=2, train/loss_step=0.000468, train/loss_epoch=0.000604, test/loss_step=3.640, test/acc_step=0.547, test/loss_epoch=3.610, test/acc_epoch=0.55\u001b[A\n",
      "Validation: 0it [00:00, ?it/s]\u001b[A\n",
      "Validation:   0%|                                                                                                                                                                            | 0/2 [00:00<?, ?it/s]\u001b[A\n",
      "Validation DataLoader 0:   0%|                                                                                                                                                               | 0/2 [00:00<?, ?it/s]\u001b[A\n",
      "Epoch 91:  94%|▉| 16/17 [00:00<00:00, 21.84it/s, loss=0.000559, v_num=2, train/loss_step=0.000468, train/loss_epoch=0.000604, test/loss_step=3.640, test/acc_step=0.547, test/loss_epoch=3.610, test/acc_epoch=0.55\u001b[A\n",
      "Epoch 91: 100%|█| 17/17 [00:00<00:00, 22.78it/s, loss=0.000559, v_num=2, train/loss_step=0.000468, train/loss_epoch=0.000604, test/loss_step=3.700, test/acc_step=0.548, test/loss_epoch=3.680, test/acc_epoch=0.55\u001b[A\n",
      "Epoch 93:  88%|▉| 15/17 [00:00<00:00, 21.88it/s, loss=0.000475, v_num=2, train/loss_step=0.000395, train/loss_epoch=0.000511, test/loss_step=3.700, test/acc_step=0.548, test/loss_epoch=3.680, test/acc_epoch=0.55\u001b[A\n",
      "Validation: 0it [00:00, ?it/s]\u001b[A\n",
      "Validation:   0%|                                                                                                                                                                            | 0/2 [00:00<?, ?it/s]\u001b[A\n",
      "Validation DataLoader 0:   0%|                                                                                                                                                               | 0/2 [00:00<?, ?it/s]\u001b[A\n",
      "Epoch 93:  94%|▉| 16/17 [00:00<00:00, 21.71it/s, loss=0.000475, v_num=2, train/loss_step=0.000395, train/loss_epoch=0.000511, test/loss_step=3.700, test/acc_step=0.548, test/loss_epoch=3.680, test/acc_epoch=0.55\u001b[A\n",
      "Epoch 93: 100%|█| 17/17 [00:00<00:00, 22.63it/s, loss=0.000475, v_num=2, train/loss_step=0.000395, train/loss_epoch=0.000511, test/loss_step=3.770, test/acc_step=0.547, test/loss_epoch=3.740, test/acc_epoch=0.55\u001b[A\n",
      "Epoch 95:  88%|▉| 15/17 [00:00<00:00, 18.02it/s, loss=0.000401, v_num=2, train/loss_step=0.000334, train/loss_epoch=0.000434, test/loss_step=3.770, test/acc_step=0.547, test/loss_epoch=3.740, test/acc_epoch=0.55\u001b[A\n",
      "Validation: 0it [00:00, ?it/s]\u001b[A\n",
      "Validation:   0%|                                                                                                                                                                            | 0/2 [00:00<?, ?it/s]\u001b[A\n",
      "Validation DataLoader 0:   0%|                                                                                                                                                               | 0/2 [00:00<?, ?it/s]\u001b[A\n",
      "Epoch 95:  94%|▉| 16/17 [00:00<00:00, 17.85it/s, loss=0.000401, v_num=2, train/loss_step=0.000334, train/loss_epoch=0.000434, test/loss_step=3.770, test/acc_step=0.547, test/loss_epoch=3.740, test/acc_epoch=0.55\u001b[A\n",
      "Epoch 95: 100%|█| 17/17 [00:00<00:00, 18.55it/s, loss=0.000401, v_num=2, train/loss_step=0.000334, train/loss_epoch=0.000434, test/loss_step=3.830, test/acc_step=0.544, test/loss_epoch=3.800, test/acc_epoch=0.55\u001b[A\n",
      "Epoch 97:  88%|▉| 15/17 [00:00<00:00, 22.21it/s, loss=0.00034, v_num=2, train/loss_step=0.000282, train/loss_epoch=0.000369, test/loss_step=3.830, test/acc_step=0.544, test/loss_epoch=3.800, test/acc_epoch=0.553\u001b[A\n",
      "Validation: 0it [00:00, ?it/s]\u001b[A\n",
      "Validation:   0%|                                                                                                                                                                            | 0/2 [00:00<?, ?it/s]\u001b[A\n",
      "Validation DataLoader 0:   0%|                                                                                                                                                               | 0/2 [00:00<?, ?it/s]\u001b[A\n",
      "Epoch 97:  94%|▉| 16/17 [00:00<00:00, 22.09it/s, loss=0.00034, v_num=2, train/loss_step=0.000282, train/loss_epoch=0.000369, test/loss_step=3.830, test/acc_step=0.544, test/loss_epoch=3.800, test/acc_epoch=0.553\u001b[A\n",
      "Epoch 97: 100%|█| 17/17 [00:00<00:00, 23.01it/s, loss=0.00034, v_num=2, train/loss_step=0.000282, train/loss_epoch=0.000369, test/loss_step=3.890, test/acc_step=0.545, test/loss_epoch=3.870, test/acc_epoch=0.553\u001b[A\n",
      "Epoch 99:  88%|▉| 15/17 [00:00<00:00, 21.73it/s, loss=0.000289, v_num=2, train/loss_step=0.000239, train/loss_epoch=0.000313, test/loss_step=3.890, test/acc_step=0.545, test/loss_epoch=3.870, test/acc_epoch=0.55\u001b[A\n",
      "Validation: 0it [00:00, ?it/s]\u001b[A\n",
      "Validation:   0%|                                                                                                                                                                            | 0/2 [00:00<?, ?it/s]\u001b[A\n",
      "Validation DataLoader 0:   0%|                                                                                                                                                               | 0/2 [00:00<?, ?it/s]\u001b[A\n",
      "Epoch 99:  94%|▉| 16/17 [00:00<00:00, 21.57it/s, loss=0.000289, v_num=2, train/loss_step=0.000239, train/loss_epoch=0.000313, test/loss_step=3.890, test/acc_step=0.545, test/loss_epoch=3.870, test/acc_epoch=0.55\u001b[A\n",
      "Epoch 99: 100%|█| 17/17 [00:00<00:00, 22.45it/s, loss=0.000289, v_num=2, train/loss_step=0.000239, train/loss_epoch=0.000313, test/loss_step=3.960, test/acc_step=0.545, test/loss_epoch=3.930, test/acc_epoch=0.55\u001b[A\n",
      "Epoch 99: 100%|█| 17/17 [00:01<00:00, 13.08it/s, loss=0.000289, v_num=2, train/loss_step=0.000239, train/loss_epoch=0.000288, test/loss_step=3.960, test/acc_step=0.545, test/loss_epoch=3.930, test/acc_epoch=0.55\u001b[A\n"
     ]
    }
   ],
   "source": [
    "trainer.fit(model=model, datamodule=dm)"
   ]
  },
  {
   "cell_type": "code",
   "execution_count": 10,
   "id": "d08d7ad1",
   "metadata": {},
   "outputs": [],
   "source": [
    "import pickle as pkl\n",
    "with open(\"./res/ff.pkl\", \"wb\") as f:\n",
    "    pkl.dump(cb.elogs_collection, f)"
   ]
  }
 ],
 "metadata": {
  "kernelspec": {
   "display_name": "Python 3 (ipykernel)",
   "language": "python",
   "name": "python3"
  },
  "language_info": {
   "codemirror_mode": {
    "name": "ipython",
    "version": 3
   },
   "file_extension": ".py",
   "mimetype": "text/x-python",
   "name": "python",
   "nbconvert_exporter": "python",
   "pygments_lexer": "ipython3",
   "version": "3.8.10"
  }
 },
 "nbformat": 4,
 "nbformat_minor": 5
}
