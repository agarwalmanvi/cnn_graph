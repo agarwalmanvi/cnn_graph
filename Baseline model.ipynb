{
 "cells": [
  {
   "cell_type": "code",
   "execution_count": 1,
   "id": "b24919ee",
   "metadata": {},
   "outputs": [
    {
     "data": {
      "text/html": [
       "<style>.container { width:80% !important; }</style>"
      ],
      "text/plain": [
       "<IPython.core.display.HTML object>"
      ]
     },
     "metadata": {},
     "output_type": "display_data"
    }
   ],
   "source": [
    "from IPython.display import display, HTML\n",
    "display(HTML(\"<style>.container { width:80% !important; }</style>\"))"
   ]
  },
  {
   "cell_type": "code",
   "execution_count": 2,
   "id": "4f9371ee",
   "metadata": {},
   "outputs": [],
   "source": [
    "from lib.mlggm.datamodules import ApneaDataModule"
   ]
  },
  {
   "cell_type": "code",
   "execution_count": 3,
   "id": "e0540c1d",
   "metadata": {},
   "outputs": [
    {
     "name": "stdout",
     "output_type": "stream",
     "text": [
      "Processing  a01 ...\n",
      "Processing  a02 ...\n",
      "Processing  a03 ...\n",
      "Processing  a04 ...\n",
      "Processing  a05 ...\n",
      "Size of training data before split:  torch.Size([2477, 6000]) torch.Size([2477, 1])\n",
      "Size of training set:  2229\n",
      "Size of validation set:  248\n",
      "Processing  a06 ...\n",
      "Processing  a07 ...\n",
      "Size of testing set:  torch.Size([1019, 6000]) torch.Size([1019, 1])\n"
     ]
    }
   ],
   "source": [
    "dm = ApneaDataModule(\n",
    "    batch_size=1024, num_workers=4, shuffle=False, path=\"./data\"\n",
    ")"
   ]
  },
  {
   "cell_type": "code",
   "execution_count": 4,
   "id": "57c3b4dc",
   "metadata": {},
   "outputs": [],
   "source": [
    "from lib.mlggm.ff_model import FF"
   ]
  },
  {
   "cell_type": "code",
   "execution_count": 5,
   "id": "34c05d59",
   "metadata": {},
   "outputs": [],
   "source": [
    "model = FF()"
   ]
  },
  {
   "cell_type": "code",
   "execution_count": 6,
   "id": "8148796a",
   "metadata": {},
   "outputs": [],
   "source": [
    "import pytorch_lightning as pl"
   ]
  },
  {
   "cell_type": "code",
   "execution_count": 7,
   "id": "928e1bf7",
   "metadata": {},
   "outputs": [
    {
     "name": "stderr",
     "output_type": "stream",
     "text": [
      "GPU available: False, used: False\n",
      "TPU available: False, using: 0 TPU cores\n",
      "IPU available: False, using: 0 IPUs\n",
      "HPU available: False, using: 0 HPUs\n"
     ]
    }
   ],
   "source": [
    "trainer = pl.Trainer(max_epochs=10)"
   ]
  },
  {
   "cell_type": "code",
   "execution_count": 8,
   "id": "ea5aea0d",
   "metadata": {
    "scrolled": false
   },
   "outputs": [
    {
     "name": "stderr",
     "output_type": "stream",
     "text": [
      "/home/agarmanv/Documents/cnn_graph/cnn_venv/lib/python3.8/site-packages/pytorch_lightning/trainer/configuration_validator.py:131: UserWarning: You passed in a `val_dataloader` but have no `validation_step`. Skipping val loop.\n",
      "  rank_zero_warn(\"You passed in a `val_dataloader` but have no `validation_step`. Skipping val loop.\")\n",
      "\n",
      "  | Name          | Type              | Params\n",
      "----------------------------------------------------\n",
      "0 | loss_fn       | BCEWithLogitsLoss | 0     \n",
      "1 | hidden_layer  | Linear            | 6.1 M \n",
      "2 | nonlin        | Sigmoid           | 0     \n",
      "3 | readout_layer | Linear            | 1.0 K \n",
      "----------------------------------------------------\n",
      "6.1 M     Trainable params\n",
      "0         Non-trainable params\n",
      "6.1 M     Total params\n",
      "24.584    Total estimated model params size (MB)\n",
      "/home/agarmanv/Documents/cnn_graph/cnn_venv/lib/python3.8/site-packages/pytorch_lightning/trainer/trainer.py:1933: PossibleUserWarning: The number of training batches (3) is smaller than the logging interval Trainer(log_every_n_steps=50). Set a lower value for log_every_n_steps if you want to see logs for the training epoch.\n",
      "  rank_zero_warn(\n"
     ]
    },
    {
     "data": {
      "application/vnd.jupyter.widget-view+json": {
       "model_id": "a1a88a375cbf45719c3a6a8311d59907",
       "version_major": 2,
       "version_minor": 0
      },
      "text/plain": [
       "Training: 0it [00:00, ?it/s]"
      ]
     },
     "metadata": {},
     "output_type": "display_data"
    }
   ],
   "source": [
    "trainer.fit(model=model, datamodule=dm)"
   ]
  },
  {
   "cell_type": "markdown",
   "id": "08236f6e",
   "metadata": {},
   "source": [
    "To see results below with tensorboard, go to your terminal and run:\n",
    "`tensorboard --logdir=lightning_logs/`<br>\n",
    "Then run the cell below to see training loss."
   ]
  },
  {
   "cell_type": "code",
   "execution_count": 10,
   "id": "556d32f3",
   "metadata": {},
   "outputs": [
    {
     "data": {
      "text/plain": [
       "Reusing TensorBoard on port 6006 (pid 149707), started 0:01:51 ago. (Use '!kill 149707' to kill it.)"
      ]
     },
     "metadata": {},
     "output_type": "display_data"
    },
    {
     "data": {
      "text/html": [
       "\n",
       "      <iframe id=\"tensorboard-frame-d2a55cc1b7b0e5fe\" width=\"100%\" height=\"800\" frameborder=\"0\">\n",
       "      </iframe>\n",
       "      <script>\n",
       "        (function() {\n",
       "          const frame = document.getElementById(\"tensorboard-frame-d2a55cc1b7b0e5fe\");\n",
       "          const url = new URL(\"/\", window.location);\n",
       "          const port = 6006;\n",
       "          if (port) {\n",
       "            url.port = port;\n",
       "          }\n",
       "          frame.src = url;\n",
       "        })();\n",
       "      </script>\n",
       "    "
      ],
      "text/plain": [
       "<IPython.core.display.HTML object>"
      ]
     },
     "metadata": {},
     "output_type": "display_data"
    }
   ],
   "source": [
    "%reload_ext tensorboard\n",
    "%tensorboard --logdir=lightning_logs/"
   ]
  },
  {
   "cell_type": "code",
   "execution_count": null,
   "id": "4e2f3e2b",
   "metadata": {},
   "outputs": [],
   "source": []
  }
 ],
 "metadata": {
  "kernelspec": {
   "display_name": "Python 3 (ipykernel)",
   "language": "python",
   "name": "python3"
  },
  "language_info": {
   "codemirror_mode": {
    "name": "ipython",
    "version": 3
   },
   "file_extension": ".py",
   "mimetype": "text/x-python",
   "name": "python",
   "nbconvert_exporter": "python",
   "pygments_lexer": "ipython3",
   "version": "3.8.10"
  }
 },
 "nbformat": 4,
 "nbformat_minor": 5
}
