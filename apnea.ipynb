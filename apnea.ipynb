{
 "cells": [
  {
   "cell_type": "code",
   "execution_count": 1,
   "id": "1a03915f",
   "metadata": {},
   "outputs": [],
   "source": [
    "# Usual imports\n",
    "import os\n",
    "import numpy as np\n",
    "from scipy import spatial\n",
    "import matplotlib.pyplot as plt\n",
    "%matplotlib inline"
   ]
  },
  {
   "cell_type": "markdown",
   "id": "7a53af08",
   "metadata": {},
   "source": [
    "## Import data using the wfdb package"
   ]
  },
  {
   "cell_type": "code",
   "execution_count": 2,
   "id": "b4db7018",
   "metadata": {},
   "outputs": [],
   "source": [
    "# Software package for handling the database\n",
    "import wfdb"
   ]
  },
  {
   "cell_type": "code",
   "execution_count": 3,
   "id": "445ad7cc",
   "metadata": {},
   "outputs": [
    {
     "data": {
      "image/png": "[encoded data removed]",
      "text/plain": [
       "<Figure size 432x288 with 1 Axes>"
      ]
     },
     "metadata": {
      "needs_background": "light"
     },
     "output_type": "display_data"
    }
   ],
   "source": [
    "# Read in a recording, plot it, and show its dictionary.\n",
    "record = wfdb.rdrecord('./data/a01')\n",
    "wfdb.plot_wfdb(record=record, title='Record a01') \n",
    "#display(record.__dict__)"
   ]
  },
  {
   "cell_type": "code",
   "execution_count": 4,
   "id": "c68d06d7",
   "metadata": {},
   "outputs": [
    {
     "data": {
      "text/plain": [
       "[<matplotlib.lines.Line2D at 0x7fb3e14814c0>]"
      ]
     },
     "execution_count": 4,
     "metadata": {},
     "output_type": "execute_result"
    },
    {
     "data": {
      "image/png": "[encoded data removed]",
      "text/plain": [
       "<Figure size 432x288 with 1 Axes>"
      ]
     },
     "metadata": {
      "needs_background": "light"
     },
     "output_type": "display_data"
    }
   ],
   "source": [
    "# Alternatively, convert signal to numpy array and plot only a part of it.\n",
    "plt.plot(record.__dict__['p_signal'][:200])"
   ]
  },
  {
   "cell_type": "code",
   "execution_count": 5,
   "id": "b70ea086",
   "metadata": {
    "scrolled": true
   },
   "outputs": [],
   "source": [
    "# Read in annotations.\n",
    "annotation = wfdb.rdann('./data/a01', 'apn')\n",
    "#print(annotation.__dict__)"
   ]
  },
  {
   "cell_type": "code",
   "execution_count": 8,
   "id": "14dc7763",
   "metadata": {
    "scrolled": false
   },
   "outputs": [
    {
     "data": {
      "text/plain": [
       "488"
      ]
     },
     "execution_count": 8,
     "metadata": {},
     "output_type": "execute_result"
    }
   ],
   "source": [
    "len(annotation.__dict__[\"sample\"]) - 1"
   ]
  },
  {
   "cell_type": "code",
   "execution_count": null,
   "id": "380b1c73",
   "metadata": {},
   "outputs": [],
   "source": [
    "list(range(len()))"
   ]
  },
  {
   "cell_type": "markdown",
   "id": "24b981c4",
   "metadata": {},
   "source": [
    "## Create data matrix"
   ]
  },
  {
   "cell_type": "code",
   "execution_count": 7,
   "id": "cb9d1c90",
   "metadata": {},
   "outputs": [
    {
     "name": "stderr",
     "output_type": "stream",
     "text": [
      "/home/agarmanv/Documents/cnn_graph/lib/graph.py:46: SyntaxWarning: \"is\" with a literal. Did you mean \"==\"?\n",
      "  assert metric is 'cosine'\n",
      "/home/agarmanv/Documents/cnn_graph/lib/graph.py:155: SyntaxWarning: \"is\" with a literal. Did you mean \"==\"?\n",
      "  if algo is 'eig':\n",
      "/home/agarmanv/Documents/cnn_graph/lib/graph.py:158: SyntaxWarning: \"is\" with a literal. Did you mean \"==\"?\n",
      "  elif algo is 'eigh':\n",
      "/home/agarmanv/Documents/cnn_graph/lib/graph.py:160: SyntaxWarning: \"is\" with a literal. Did you mean \"==\"?\n",
      "  elif algo is 'eigs':\n",
      "/home/agarmanv/Documents/cnn_graph/lib/graph.py:163: SyntaxWarning: \"is\" with a literal. Did you mean \"==\"?\n",
      "  elif algo is 'eigsh':\n",
      "/home/agarmanv/Documents/cnn_graph/lib/coarsening.py:192: SyntaxWarning: \"is\" with a literal. Did you mean \"==\"?\n",
      "  if len(indices_node) is 1:\n",
      "/home/agarmanv/Documents/cnn_graph/lib/coarsening.py:197: SyntaxWarning: \"is\" with a literal. Did you mean \"==\"?\n",
      "  elif len(indices_node) is 0:\n",
      "/home/agarmanv/Documents/cnn_graph/lib/utils.py:18: SyntaxWarning: \"is\" with a literal. Did you mean \"==\"?\n",
      "  if num is 'spell':\n",
      "/home/agarmanv/Documents/cnn_graph/lib/utils.py:29: SyntaxWarning: \"is\" with a literal. Did you mean \"==\"?\n",
      "  elif num is 'substitute':\n",
      "/home/agarmanv/Documents/cnn_graph/lib/utils.py:32: SyntaxWarning: \"is\" with a literal. Did you mean \"==\"?\n",
      "  elif num is 'remove':\n",
      "/home/agarmanv/Documents/cnn_graph/lib/utils.py:96: SyntaxWarning: \"is\" with a literal. Did you mean \"==\"?\n",
      "  if vocab is 'selected':\n",
      "/home/agarmanv/Documents/cnn_graph/lib/utils.py:100: SyntaxWarning: \"is\" with a literal. Did you mean \"==\"?\n",
      "  elif vocab is 'full':\n"
     ]
    }
   ],
   "source": [
    "from lib import models, graph, coarsening, utils"
   ]
  },
  {
   "cell_type": "code",
   "execution_count": 10,
   "id": "225d7d10",
   "metadata": {
    "scrolled": false
   },
   "outputs": [
    {
     "name": "stdout",
     "output_type": "stream",
     "text": [
      "(10, 2520000)\n",
      "(10, 420)\n"
     ]
    }
   ],
   "source": [
    "# List of recordings\n",
    "reclist = ['a01','a02','a03','a04','a05','a06','a07','a08','a09','a10']#,'a11','a12','a13','a14','a15','a16','a17','a18','a19','a20']\n",
    "\n",
    "# Data and label matrix recordings\n",
    "n_of_hours = 7\n",
    "n_of_mins = n_of_hours*60\n",
    "n_of_samples = n_of_mins * 60 * 100\n",
    "data = np.zeros((len(reclist),n_of_samples))\n",
    "labels = np.zeros((len(reclist),n_of_mins))\n",
    "\n",
    "# Read in recordings and annotations.\n",
    "for r in range(len(reclist)):\n",
    "    record = wfdb.rdrecord(os.path.join(\".\", \"data\", reclist[r]), sampto=n_of_samples)\n",
    "    data[r,:] = record.__dict__['p_signal'].flatten()\n",
    "    \n",
    "    annotation = wfdb.rdann(os.path.join(\".\", \"data\", reclist[r]), 'apn', sampto=n_of_samples)\n",
    "    label_help = np.asarray(annotation.__dict__['symbol'])[:n_of_mins]\n",
    "    labels[r,:] = np.where(label_help=='N',0,1)\n",
    "    \n",
    "print(data.shape)\n",
    "print(labels.shape)"
   ]
  },
  {
   "cell_type": "code",
   "execution_count": 11,
   "id": "b6b06624",
   "metadata": {
    "scrolled": true
   },
   "outputs": [
    {
     "name": "stdout",
     "output_type": "stream",
     "text": [
      "(4200, 300)\n",
      "(4200,)\n"
     ]
    }
   ],
   "source": [
    "# Create data matrix.\n",
    "dx = 300  # I chose this arbitrarily.\n",
    "n = len(reclist)*n_of_hours*60\n",
    "X = np.zeros((n,dx))\n",
    "for i in range(data.shape[0]):\n",
    "    for j in range(n_of_mins):\n",
    "        X[i*n_of_mins+j,:] = data[i,j*6000:j*6000+300]\n",
    "y = labels.flatten()\n",
    "        \n",
    "print(X.shape)\n",
    "print(y.shape)"
   ]
  },
  {
   "cell_type": "code",
   "execution_count": 17,
   "id": "0524e3e2",
   "metadata": {},
   "outputs": [],
   "source": [
    "# # Normalize data. Is this necessary/useful? \n",
    "# X = X - X.mean(axis=1)[:,np.newaxis]\n",
    "# X = 1/(1 + np.exp(-X)) - 0.5"
   ]
  },
  {
   "cell_type": "code",
   "execution_count": 14,
   "id": "3aeabc9a",
   "metadata": {},
   "outputs": [],
   "source": [
    "# Normalize to be between 0 and 1\n",
    "X = (X - np.min(X)) / (np.max(X) - np.min(X))"
   ]
  },
  {
   "cell_type": "code",
   "execution_count": 18,
   "id": "f2448744",
   "metadata": {
    "scrolled": true
   },
   "outputs": [
    {
     "data": {
      "text/plain": [
       "[<matplotlib.lines.Line2D at 0x7fab482827f0>]"
      ]
     },
     "execution_count": 18,
     "metadata": {},
     "output_type": "execute_result"
    },
    {
     "data": {
      "image/png": "[encoded data removed]",
      "text/plain": [
       "<Figure size 432x288 with 1 Axes>"
      ]
     },
     "metadata": {
      "needs_background": "light"
     },
     "output_type": "display_data"
    }
   ],
   "source": [
    "# Plot examples.\n",
    "sample = 100\n",
    "plt.plot(X[sample])"
   ]
  },
  {
   "cell_type": "code",
   "execution_count": 19,
   "id": "14623283",
   "metadata": {},
   "outputs": [
    {
     "name": "stdout",
     "output_type": "stream",
     "text": [
      "(3360, 300)\n",
      "(3360,)\n",
      "(840, 300)\n",
      "(840,)\n"
     ]
    }
   ],
   "source": [
    "# Split into training and validation set.\n",
    "size_train = 8\n",
    "size_val = 2\n",
    "X_train = X[:size_train*n_of_mins,:].astype(np.float32)\n",
    "y_train = y[:size_train*n_of_mins].astype(np.uint8)\n",
    "X_val = X[size_train*n_of_mins:,:].astype(np.float32)\n",
    "y_val = y[size_train*n_of_mins:].astype(np.uint8)\n",
    "print(X_train.shape)\n",
    "print(y_train.shape)\n",
    "print(X_val.shape)\n",
    "print(y_val.shape)"
   ]
  },
  {
   "cell_type": "markdown",
   "id": "7716bc7a",
   "metadata": {},
   "source": [
    "# Run a baseline model"
   ]
  },
  {
   "cell_type": "code",
   "execution_count": 22,
   "id": "3db8e207",
   "metadata": {},
   "outputs": [
    {
     "ename": "ModuleNotFoundError",
     "evalue": "No module named 'torch'",
     "output_type": "error",
     "traceback": [
      "\u001b[0;31m---------------------------------------------------------------------------\u001b[0m",
      "\u001b[0;31mModuleNotFoundError\u001b[0m                       Traceback (most recent call last)",
      "Input \u001b[0;32mIn [22]\u001b[0m, in \u001b[0;36m<cell line: 1>\u001b[0;34m()\u001b[0m\n\u001b[0;32m----> 1\u001b[0m \u001b[38;5;28;01mimport\u001b[39;00m \u001b[38;5;21;01mtorch\u001b[39;00m\n",
      "\u001b[0;31mModuleNotFoundError\u001b[0m: No module named 'torch'"
     ]
    }
   ],
   "source": [
    "import torch"
   ]
  },
  {
   "cell_type": "code",
   "execution_count": null,
   "id": "756d7bea",
   "metadata": {},
   "outputs": [],
   "source": []
  },
  {
   "cell_type": "code",
   "execution_count": null,
   "id": "399360f1",
   "metadata": {},
   "outputs": [],
   "source": []
  },
  {
   "cell_type": "code",
   "execution_count": null,
   "id": "2283360a",
   "metadata": {},
   "outputs": [],
   "source": []
  },
  {
   "cell_type": "code",
   "execution_count": null,
   "id": "4d50b18b",
   "metadata": {},
   "outputs": [],
   "source": []
  },
  {
   "cell_type": "code",
   "execution_count": null,
   "id": "25aa70c7",
   "metadata": {},
   "outputs": [],
   "source": []
  },
  {
   "cell_type": "code",
   "execution_count": null,
   "id": "4debb570",
   "metadata": {},
   "outputs": [],
   "source": []
  },
  {
   "cell_type": "markdown",
   "id": "728c8957",
   "metadata": {},
   "source": [
    "## Natural graph architecture"
   ]
  },
  {
   "cell_type": "code",
   "execution_count": 15,
   "id": "b599dc2b",
   "metadata": {
    "scrolled": true
   },
   "outputs": [],
   "source": [
    "import sklearn\n",
    "dx = 300\n",
    "end = dx-1\n",
    "grid = np.linspace(0,end,dx)\n",
    "#print('grid:\\n',grid)\n",
    "\n",
    "dist = np.zeros((dx,dx))\n",
    "for i in range(dx):\n",
    "    for j in range(dx):\n",
    "        distance = np.abs(grid[i]-grid[j])\n",
    "        if distance <= end/2:\n",
    "            dist[i,j] = np.abs(grid[i]-grid[j])\n",
    "        else:\n",
    "            dist[i,j] = end - np.abs(grid[i]-grid[j]) + end/(dx-1)\n",
    "#print('distances: \\n',dist)"
   ]
  },
  {
   "cell_type": "code",
   "execution_count": 16,
   "id": "fb72b653",
   "metadata": {},
   "outputs": [],
   "source": [
    "k = 2\n",
    "idx = np.argsort(dist)[:,1:k+1]\n",
    "#print('idx:\\n',idx)\n",
    "dist.sort()\n",
    "dist = dist[:,1:k+1]\n",
    "#print('dist:\\n',dist)"
   ]
  },
  {
   "cell_type": "code",
   "execution_count": 17,
   "id": "59c91ee1",
   "metadata": {},
   "outputs": [],
   "source": [
    "a = graph.adjacency(dist,idx).astype(np.float32)\n",
    "#plt.spy(a,markersize=4,color='black')"
   ]
  },
  {
   "cell_type": "code",
   "execution_count": 18,
   "id": "9cf67682",
   "metadata": {
    "scrolled": true
   },
   "outputs": [
    {
     "name": "stdout",
     "output_type": "stream",
     "text": [
      "Layer 0: M_0 = |V| = 640 nodes (340 added),|E| = 300 edges\n",
      "Layer 1: M_1 = |V| = 320 nodes (153 added),|E| = 167 edges\n",
      "Layer 2: M_2 = |V| = 160 nodes (66 added),|E| = 94 edges\n",
      "Layer 3: M_3 = |V| = 80 nodes (27 added),|E| = 53 edges\n",
      "Layer 4: M_4 = |V| = 40 nodes (9 added),|E| = 31 edges\n",
      "Layer 5: M_5 = |V| = 20 nodes (2 added),|E| = 18 edges\n",
      "Layer 6: M_6 = |V| = 10 nodes (0 added),|E| = 10 edges\n"
     ]
    }
   ],
   "source": [
    "graphs, perm = coarsening.coarsen(a, levels=6, self_connections=False)\n",
    "\n",
    "X_train = coarsening.perm_data(X_train, perm)\n",
    "X_val = coarsening.perm_data(X_val, perm)"
   ]
  },
  {
   "cell_type": "code",
   "execution_count": 19,
   "id": "ae1fa4fc",
   "metadata": {},
   "outputs": [
    {
     "data": {
      "image/png": "[encoded data removed]",
      "text/plain": [
       "<Figure size 432x288 with 1 Axes>"
      ]
     },
     "metadata": {},
     "output_type": "display_data"
    }
   ],
   "source": [
    "import networkx as nx\n",
    "# Illustrate graph (details not important).\n",
    "G = nx.from_numpy_matrix(np.matrix(graphs[5].toarray()), create_using=nx.DiGraph)\n",
    "layout = nx.spring_layout(G)\n",
    "nx.draw(G, layout)\n",
    "plt.show()"
   ]
  },
  {
   "cell_type": "code",
   "execution_count": 20,
   "id": "c1701a6c",
   "metadata": {},
   "outputs": [
    {
     "data": {
      "image/png": "[encoded data removed]",
      "text/plain": [
       "<Figure size 1224x360 with 1 Axes>"
      ]
     },
     "metadata": {
      "needs_background": "light"
     },
     "output_type": "display_data"
    }
   ],
   "source": [
    "L = [graph.laplacian(A, normalized=True) for A in graphs]\n",
    "graph.plot_spectrum(L)"
   ]
  },
  {
   "cell_type": "markdown",
   "id": "b26c0563",
   "metadata": {},
   "source": [
    "## Training"
   ]
  },
  {
   "cell_type": "code",
   "execution_count": 22,
   "id": "209e6946",
   "metadata": {},
   "outputs": [],
   "source": [
    "params = dict()\n",
    "params['dir_name']       = 'demo'\n",
    "params['num_epochs']     = 20\n",
    "params['batch_size']     = int(X_train.shape[0]/100)\n",
    "params['eval_frequency'] = 10\n",
    "\n",
    "# Building blocks.\n",
    "params['filter']         = 'chebyshev5'\n",
    "params['brelu']          = 'b1relu'\n",
    "params['pool']           = 'apool1'\n",
    "\n",
    "# Number of classes.\n",
    "C = int(y.max() + 1)\n",
    "assert C == np.unique(y).size\n",
    "\n",
    "# Architecture.\n",
    "params['F']              = [32, 32, 32]  # Number of graph convolutional filters.\n",
    "params['K']              = [20, 20, 20]  # Polynomial orders.\n",
    "params['p']              = [4, 4, 2]    # Pooling sizes.\n",
    "params['M']              = [512, C]  # Output dimensionality of fully connected layers.\n",
    "\n",
    "# Optimization.\n",
    "params['regularization'] = 5e-2\n",
    "params['dropout']        = 1\n",
    "params['learning_rate']  = 1e-4 \n",
    "params['decay_rate']     = 0.95\n",
    "params['momentum']       = 0.9\n",
    "params['decay_steps']    = X_train.shape[0] / params['batch_size']"
   ]
  },
  {
   "cell_type": "code",
   "execution_count": 23,
   "id": "b09619a4",
   "metadata": {},
   "outputs": [
    {
     "name": "stdout",
     "output_type": "stream",
     "text": [
      "NN architecture\n",
      "  input: M_0 = 640\n",
      "  layer 1: cgconv1\n",
      "    representation: M_0 * F_1 / p_1 = 640 * 32 / 4 = 5120\n",
      "    weights: F_0 * F_1 * K_1 = 1 * 32 * 20 = 640\n",
      "    biases: F_1 = 32\n",
      "  layer 2: cgconv2\n",
      "    representation: M_1 * F_2 / p_2 = 160 * 32 / 4 = 1280\n",
      "    weights: F_1 * F_2 * K_2 = 32 * 32 * 20 = 20480\n",
      "    biases: F_2 = 32\n",
      "  layer 3: cgconv3\n",
      "    representation: M_2 * F_3 / p_3 = 40 * 32 / 2 = 640\n",
      "    weights: F_2 * F_3 * K_3 = 32 * 32 * 20 = 20480\n",
      "    biases: F_3 = 32\n",
      "  layer 4: fc1\n",
      "    representation: M_4 = 512\n",
      "    weights: M_3 * M_4 = 640 * 512 = 327680\n",
      "    biases: M_4 = 512\n",
      "  layer 5: logits (softmax)\n",
      "    representation: M_5 = 2\n",
      "    weights: M_4 * M_5 = 512 * 2 = 1024\n",
      "    biases: M_5 = 2\n"
     ]
    },
    {
     "name": "stderr",
     "output_type": "stream",
     "text": [
      "W tensorflow/core/platform/cpu_feature_guard.cc:45] The TensorFlow library wasn't compiled to use SSE4.1 instructions, but these are available on your machine and could speed up CPU computations.\n",
      "W tensorflow/core/platform/cpu_feature_guard.cc:45] The TensorFlow library wasn't compiled to use SSE4.2 instructions, but these are available on your machine and could speed up CPU computations.\n",
      "W tensorflow/core/platform/cpu_feature_guard.cc:45] The TensorFlow library wasn't compiled to use AVX instructions, but these are available on your machine and could speed up CPU computations.\n",
      "W tensorflow/core/platform/cpu_feature_guard.cc:45] The TensorFlow library wasn't compiled to use AVX2 instructions, but these are available on your machine and could speed up CPU computations.\n",
      "W tensorflow/core/platform/cpu_feature_guard.cc:45] The TensorFlow library wasn't compiled to use FMA instructions, but these are available on your machine and could speed up CPU computations.\n"
     ]
    },
    {
     "name": "stdout",
     "output_type": "stream",
     "text": [
      "step 10 / 2036 (epoch 0.10 / 20):\n",
      "  learning_rate = 1.00e-04, loss_average = 4.19e+01\n",
      "  validation accuracy: 45.48 (382 / 840), f1 (weighted): 28.57, loss: 6.57e+01\n",
      "  time: 33s (wall 5s)\n",
      "step 20 / 2036 (epoch 0.20 / 20):\n",
      "  learning_rate = 1.00e-04, loss_average = 5.64e+01\n",
      "  validation accuracy: 45.36 (381 / 840), f1 (weighted): 28.31, loss: 6.57e+01\n",
      "  time: 67s (wall 9s)\n",
      "step 30 / 2036 (epoch 0.29 / 20):\n",
      "  learning_rate = 1.00e-04, loss_average = 6.15e+01\n",
      "  validation accuracy: 45.36 (381 / 840), f1 (weighted): 28.31, loss: 6.56e+01\n",
      "  time: 100s (wall 13s)\n",
      "step 40 / 2036 (epoch 0.39 / 20):\n",
      "  learning_rate = 1.00e-04, loss_average = 6.32e+01\n",
      "  validation accuracy: 45.36 (381 / 840), f1 (weighted): 28.31, loss: 6.55e+01\n",
      "  time: 134s (wall 18s)\n",
      "step 50 / 2036 (epoch 0.49 / 20):\n",
      "  learning_rate = 1.00e-04, loss_average = 6.37e+01\n",
      "  validation accuracy: 45.36 (381 / 840), f1 (weighted): 28.31, loss: 6.55e+01\n",
      "  time: 166s (wall 22s)\n",
      "step 60 / 2036 (epoch 0.59 / 20):\n",
      "  learning_rate = 1.00e-04, loss_average = 6.39e+01\n",
      "  validation accuracy: 45.36 (381 / 840), f1 (weighted): 28.31, loss: 6.54e+01\n",
      "  time: 199s (wall 26s)\n",
      "step 70 / 2036 (epoch 0.69 / 20):\n",
      "  learning_rate = 1.00e-04, loss_average = 6.39e+01\n",
      "  validation accuracy: 45.36 (381 / 840), f1 (weighted): 28.31, loss: 6.54e+01\n",
      "  time: 232s (wall 31s)\n",
      "step 80 / 2036 (epoch 0.79 / 20):\n",
      "  learning_rate = 1.00e-04, loss_average = 6.39e+01\n",
      "  validation accuracy: 45.36 (381 / 840), f1 (weighted): 28.31, loss: 6.53e+01\n",
      "  time: 266s (wall 35s)\n",
      "step 90 / 2036 (epoch 0.88 / 20):\n",
      "  learning_rate = 1.00e-04, loss_average = 6.38e+01\n",
      "  validation accuracy: 45.36 (381 / 840), f1 (weighted): 28.31, loss: 6.52e+01\n",
      "  time: 299s (wall 39s)\n",
      "step 100 / 2036 (epoch 0.98 / 20):\n",
      "  learning_rate = 1.00e-04, loss_average = 6.38e+01\n",
      "  validation accuracy: 45.36 (381 / 840), f1 (weighted): 28.31, loss: 6.51e+01\n",
      "  time: 332s (wall 44s)\n",
      "step 110 / 2036 (epoch 1.08 / 20):\n",
      "  learning_rate = 9.50e-05, loss_average = 6.37e+01\n",
      "  validation accuracy: 45.36 (381 / 840), f1 (weighted): 28.31, loss: 6.51e+01\n",
      "  time: 367s (wall 48s)\n",
      "step 120 / 2036 (epoch 1.18 / 20):\n",
      "  learning_rate = 9.50e-05, loss_average = 6.36e+01\n",
      "  validation accuracy: 45.36 (381 / 840), f1 (weighted): 28.31, loss: 6.50e+01\n",
      "  time: 400s (wall 52s)\n",
      "step 130 / 2036 (epoch 1.28 / 20):\n",
      "  learning_rate = 9.50e-05, loss_average = 6.36e+01\n",
      "  validation accuracy: 45.36 (381 / 840), f1 (weighted): 28.31, loss: 6.50e+01\n",
      "  time: 432s (wall 57s)\n",
      "step 140 / 2036 (epoch 1.38 / 20):\n",
      "  learning_rate = 9.50e-05, loss_average = 6.35e+01\n",
      "  validation accuracy: 45.36 (381 / 840), f1 (weighted): 28.31, loss: 6.49e+01\n",
      "  time: 465s (wall 61s)\n",
      "step 150 / 2036 (epoch 1.47 / 20):\n",
      "  learning_rate = 9.50e-05, loss_average = 6.35e+01\n",
      "  validation accuracy: 45.36 (381 / 840), f1 (weighted): 28.31, loss: 6.49e+01\n",
      "  time: 498s (wall 65s)\n",
      "step 160 / 2036 (epoch 1.57 / 20):\n",
      "  learning_rate = 9.50e-05, loss_average = 6.34e+01\n",
      "  validation accuracy: 45.36 (381 / 840), f1 (weighted): 28.31, loss: 6.48e+01\n",
      "  time: 531s (wall 70s)\n",
      "step 170 / 2036 (epoch 1.67 / 20):\n",
      "  learning_rate = 9.50e-05, loss_average = 6.33e+01\n",
      "  validation accuracy: 45.36 (381 / 840), f1 (weighted): 28.31, loss: 6.47e+01\n",
      "  time: 564s (wall 74s)\n",
      "step 180 / 2036 (epoch 1.77 / 20):\n",
      "  learning_rate = 9.50e-05, loss_average = 6.33e+01\n",
      "  validation accuracy: 45.36 (381 / 840), f1 (weighted): 28.31, loss: 6.47e+01\n",
      "  time: 597s (wall 78s)\n",
      "step 190 / 2036 (epoch 1.87 / 20):\n",
      "  learning_rate = 9.50e-05, loss_average = 6.32e+01\n",
      "  validation accuracy: 45.36 (381 / 840), f1 (weighted): 28.31, loss: 6.46e+01\n",
      "  time: 631s (wall 83s)\n",
      "step 200 / 2036 (epoch 1.96 / 20):\n",
      "  learning_rate = 9.50e-05, loss_average = 6.32e+01\n",
      "  validation accuracy: 45.36 (381 / 840), f1 (weighted): 28.31, loss: 6.46e+01\n",
      "  time: 665s (wall 87s)\n",
      "step 210 / 2036 (epoch 2.06 / 20):\n",
      "  learning_rate = 9.02e-05, loss_average = 6.31e+01\n",
      "  validation accuracy: 45.36 (381 / 840), f1 (weighted): 28.31, loss: 6.45e+01\n",
      "  time: 698s (wall 91s)\n",
      "step 220 / 2036 (epoch 2.16 / 20):\n",
      "  learning_rate = 9.02e-05, loss_average = 6.30e+01\n",
      "  validation accuracy: 45.36 (381 / 840), f1 (weighted): 28.31, loss: 6.44e+01\n",
      "  time: 732s (wall 96s)\n",
      "step 230 / 2036 (epoch 2.26 / 20):\n",
      "  learning_rate = 9.02e-05, loss_average = 6.30e+01\n",
      "  validation accuracy: 45.36 (381 / 840), f1 (weighted): 28.31, loss: 6.44e+01\n",
      "  time: 766s (wall 100s)\n",
      "step 240 / 2036 (epoch 2.36 / 20):\n",
      "  learning_rate = 9.02e-05, loss_average = 6.29e+01\n",
      "  validation accuracy: 45.36 (381 / 840), f1 (weighted): 28.31, loss: 6.43e+01\n",
      "  time: 800s (wall 105s)\n",
      "step 250 / 2036 (epoch 2.46 / 20):\n",
      "  learning_rate = 9.02e-05, loss_average = 6.29e+01\n",
      "  validation accuracy: 45.36 (381 / 840), f1 (weighted): 28.31, loss: 6.43e+01\n",
      "  time: 835s (wall 109s)\n",
      "step 260 / 2036 (epoch 2.55 / 20):\n",
      "  learning_rate = 9.02e-05, loss_average = 6.28e+01\n",
      "  validation accuracy: 45.36 (381 / 840), f1 (weighted): 28.31, loss: 6.42e+01\n",
      "  time: 869s (wall 114s)\n",
      "step 270 / 2036 (epoch 2.65 / 20):\n",
      "  learning_rate = 9.02e-05, loss_average = 6.28e+01\n",
      "  validation accuracy: 45.36 (381 / 840), f1 (weighted): 28.31, loss: 6.41e+01\n",
      "  time: 902s (wall 118s)\n",
      "step 280 / 2036 (epoch 2.75 / 20):\n",
      "  learning_rate = 9.02e-05, loss_average = 6.27e+01\n",
      "  validation accuracy: 45.36 (381 / 840), f1 (weighted): 28.31, loss: 6.41e+01\n",
      "  time: 937s (wall 122s)\n",
      "step 290 / 2036 (epoch 2.85 / 20):\n",
      "  learning_rate = 9.02e-05, loss_average = 6.27e+01\n",
      "  validation accuracy: 45.36 (381 / 840), f1 (weighted): 28.31, loss: 6.40e+01\n",
      "  time: 972s (wall 127s)\n",
      "step 300 / 2036 (epoch 2.95 / 20):\n",
      "  learning_rate = 9.02e-05, loss_average = 6.26e+01\n",
      "  validation accuracy: 45.36 (381 / 840), f1 (weighted): 28.31, loss: 6.40e+01\n",
      "  time: 1006s (wall 131s)\n",
      "step 310 / 2036 (epoch 3.04 / 20):\n",
      "  learning_rate = 8.57e-05, loss_average = 6.25e+01\n",
      "  validation accuracy: 45.36 (381 / 840), f1 (weighted): 28.31, loss: 6.39e+01\n",
      "  time: 1038s (wall 136s)\n",
      "step 320 / 2036 (epoch 3.14 / 20):\n",
      "  learning_rate = 8.57e-05, loss_average = 6.25e+01\n",
      "  validation accuracy: 45.36 (381 / 840), f1 (weighted): 28.31, loss: 6.39e+01\n",
      "  time: 1070s (wall 140s)\n",
      "step 330 / 2036 (epoch 3.24 / 20):\n",
      "  learning_rate = 8.57e-05, loss_average = 6.24e+01\n",
      "  validation accuracy: 45.36 (381 / 840), f1 (weighted): 28.31, loss: 6.38e+01\n",
      "  time: 1102s (wall 144s)\n",
      "step 340 / 2036 (epoch 3.34 / 20):\n",
      "  learning_rate = 8.57e-05, loss_average = 6.24e+01\n",
      "  validation accuracy: 45.36 (381 / 840), f1 (weighted): 28.31, loss: 6.38e+01\n",
      "  time: 1135s (wall 148s)\n",
      "step 350 / 2036 (epoch 3.44 / 20):\n",
      "  learning_rate = 8.57e-05, loss_average = 6.23e+01\n",
      "  validation accuracy: 45.36 (381 / 840), f1 (weighted): 28.31, loss: 6.37e+01\n",
      "  time: 1168s (wall 153s)\n",
      "step 360 / 2036 (epoch 3.54 / 20):\n",
      "  learning_rate = 8.57e-05, loss_average = 6.23e+01\n",
      "  validation accuracy: 45.36 (381 / 840), f1 (weighted): 28.31, loss: 6.37e+01\n",
      "  time: 1201s (wall 157s)\n",
      "step 370 / 2036 (epoch 3.63 / 20):\n",
      "  learning_rate = 8.57e-05, loss_average = 6.22e+01\n",
      "  validation accuracy: 45.36 (381 / 840), f1 (weighted): 28.31, loss: 6.36e+01\n",
      "  time: 1234s (wall 161s)\n",
      "step 380 / 2036 (epoch 3.73 / 20):\n",
      "  learning_rate = 8.57e-05, loss_average = 6.21e+01\n",
      "  validation accuracy: 45.36 (381 / 840), f1 (weighted): 28.31, loss: 6.36e+01\n",
      "  time: 1269s (wall 166s)\n",
      "step 390 / 2036 (epoch 3.83 / 20):\n",
      "  learning_rate = 8.57e-05, loss_average = 6.21e+01\n",
      "  validation accuracy: 45.36 (381 / 840), f1 (weighted): 28.31, loss: 6.35e+01\n",
      "  time: 1302s (wall 170s)\n",
      "step 400 / 2036 (epoch 3.93 / 20):\n",
      "  learning_rate = 8.57e-05, loss_average = 6.20e+01\n",
      "  validation accuracy: 45.36 (381 / 840), f1 (weighted): 28.31, loss: 6.34e+01\n",
      "  time: 1334s (wall 174s)\n",
      "step 410 / 2036 (epoch 4.03 / 20):\n",
      "  learning_rate = 8.15e-05, loss_average = 6.20e+01\n",
      "  validation accuracy: 45.36 (381 / 840), f1 (weighted): 28.31, loss: 6.34e+01\n",
      "  time: 1367s (wall 179s)\n",
      "step 420 / 2036 (epoch 4.12 / 20):\n",
      "  learning_rate = 8.15e-05, loss_average = 6.20e+01\n",
      "  validation accuracy: 45.36 (381 / 840), f1 (weighted): 28.31, loss: 6.33e+01\n",
      "  time: 1400s (wall 183s)\n",
      "step 430 / 2036 (epoch 4.22 / 20):\n",
      "  learning_rate = 8.15e-05, loss_average = 6.19e+01\n",
      "  validation accuracy: 45.36 (381 / 840), f1 (weighted): 28.31, loss: 6.33e+01\n",
      "  time: 1434s (wall 187s)\n",
      "step 440 / 2036 (epoch 4.32 / 20):\n",
      "  learning_rate = 8.15e-05, loss_average = 6.18e+01\n"
     ]
    },
    {
     "name": "stdout",
     "output_type": "stream",
     "text": [
      "  validation accuracy: 45.36 (381 / 840), f1 (weighted): 28.31, loss: 6.33e+01\n",
      "  time: 1467s (wall 192s)\n",
      "step 450 / 2036 (epoch 4.42 / 20):\n",
      "  learning_rate = 8.15e-05, loss_average = 6.18e+01\n",
      "  validation accuracy: 45.36 (381 / 840), f1 (weighted): 28.31, loss: 6.32e+01\n",
      "  time: 1500s (wall 196s)\n",
      "step 460 / 2036 (epoch 4.52 / 20):\n",
      "  learning_rate = 8.15e-05, loss_average = 6.18e+01\n",
      "  validation accuracy: 45.36 (381 / 840), f1 (weighted): 28.31, loss: 6.31e+01\n",
      "  time: 1533s (wall 200s)\n",
      "step 470 / 2036 (epoch 4.62 / 20):\n",
      "  learning_rate = 8.15e-05, loss_average = 6.17e+01\n",
      "  validation accuracy: 45.36 (381 / 840), f1 (weighted): 28.31, loss: 6.31e+01\n",
      "  time: 1567s (wall 205s)\n",
      "step 480 / 2036 (epoch 4.71 / 20):\n",
      "  learning_rate = 8.15e-05, loss_average = 6.16e+01\n",
      "  validation accuracy: 45.36 (381 / 840), f1 (weighted): 28.31, loss: 6.31e+01\n",
      "  time: 1600s (wall 209s)\n",
      "step 490 / 2036 (epoch 4.81 / 20):\n",
      "  learning_rate = 8.15e-05, loss_average = 6.16e+01\n",
      "  validation accuracy: 45.36 (381 / 840), f1 (weighted): 28.31, loss: 6.30e+01\n",
      "  time: 1633s (wall 213s)\n",
      "step 500 / 2036 (epoch 4.91 / 20):\n",
      "  learning_rate = 8.15e-05, loss_average = 6.16e+01\n",
      "  validation accuracy: 45.36 (381 / 840), f1 (weighted): 28.31, loss: 6.29e+01\n",
      "  time: 1667s (wall 218s)\n",
      "step 510 / 2036 (epoch 5.01 / 20):\n",
      "  learning_rate = 8.15e-05, loss_average = 6.15e+01\n",
      "  validation accuracy: 45.36 (381 / 840), f1 (weighted): 28.31, loss: 6.29e+01\n",
      "  time: 1705s (wall 223s)\n"
     ]
    },
    {
     "ename": "KeyboardInterrupt",
     "evalue": "",
     "output_type": "error",
     "traceback": [
      "\u001b[0;31m---------------------------------------------------------------------------\u001b[0m",
      "\u001b[0;31mKeyboardInterrupt\u001b[0m                         Traceback (most recent call last)",
      "\u001b[0;32m/var/folders/16/fk_6tz4s795_bwxlj5f0_nzc0000gn/T/ipykernel_1316/2780353838.py\u001b[0m in \u001b[0;36m<module>\u001b[0;34m\u001b[0m\n\u001b[1;32m      1\u001b[0m \u001b[0mmodel\u001b[0m \u001b[0;34m=\u001b[0m \u001b[0mmodels\u001b[0m\u001b[0;34m.\u001b[0m\u001b[0mcgcnn\u001b[0m\u001b[0;34m(\u001b[0m\u001b[0mL\u001b[0m\u001b[0;34m,\u001b[0m \u001b[0;34m**\u001b[0m\u001b[0mparams\u001b[0m\u001b[0;34m)\u001b[0m\u001b[0;34m\u001b[0m\u001b[0;34m\u001b[0m\u001b[0m\n\u001b[0;32m----> 2\u001b[0;31m \u001b[0maccuracy\u001b[0m\u001b[0;34m,\u001b[0m \u001b[0mloss\u001b[0m\u001b[0;34m,\u001b[0m \u001b[0mt_step\u001b[0m \u001b[0;34m=\u001b[0m \u001b[0mmodel\u001b[0m\u001b[0;34m.\u001b[0m\u001b[0mfit\u001b[0m\u001b[0;34m(\u001b[0m\u001b[0mX_train\u001b[0m\u001b[0;34m,\u001b[0m \u001b[0my_train\u001b[0m\u001b[0;34m,\u001b[0m \u001b[0mX_val\u001b[0m\u001b[0;34m,\u001b[0m \u001b[0my_val\u001b[0m\u001b[0;34m)\u001b[0m\u001b[0;34m\u001b[0m\u001b[0;34m\u001b[0m\u001b[0m\n\u001b[0m",
      "\u001b[0;32m~/Desktop/MLGGM/Project/cnn_graph/lib/models.py\u001b[0m in \u001b[0;36mfit\u001b[0;34m(self, train_data, train_labels, val_data, val_labels)\u001b[0m\n\u001b[1;32m    107\u001b[0m                 \u001b[0mbatch_data\u001b[0m \u001b[0;34m=\u001b[0m \u001b[0mbatch_data\u001b[0m\u001b[0;34m.\u001b[0m\u001b[0mtoarray\u001b[0m\u001b[0;34m(\u001b[0m\u001b[0;34m)\u001b[0m  \u001b[0;31m# convert sparse matrices\u001b[0m\u001b[0;34m\u001b[0m\u001b[0;34m\u001b[0m\u001b[0m\n\u001b[1;32m    108\u001b[0m             \u001b[0mfeed_dict\u001b[0m \u001b[0;34m=\u001b[0m \u001b[0;34m{\u001b[0m\u001b[0mself\u001b[0m\u001b[0;34m.\u001b[0m\u001b[0mph_data\u001b[0m\u001b[0;34m:\u001b[0m \u001b[0mbatch_data\u001b[0m\u001b[0;34m,\u001b[0m \u001b[0mself\u001b[0m\u001b[0;34m.\u001b[0m\u001b[0mph_labels\u001b[0m\u001b[0;34m:\u001b[0m \u001b[0mbatch_labels\u001b[0m\u001b[0;34m,\u001b[0m \u001b[0mself\u001b[0m\u001b[0;34m.\u001b[0m\u001b[0mph_dropout\u001b[0m\u001b[0;34m:\u001b[0m \u001b[0mself\u001b[0m\u001b[0;34m.\u001b[0m\u001b[0mdropout\u001b[0m\u001b[0;34m}\u001b[0m\u001b[0;34m\u001b[0m\u001b[0;34m\u001b[0m\u001b[0m\n\u001b[0;32m--> 109\u001b[0;31m             \u001b[0mlearning_rate\u001b[0m\u001b[0;34m,\u001b[0m \u001b[0mloss_average\u001b[0m \u001b[0;34m=\u001b[0m \u001b[0msess\u001b[0m\u001b[0;34m.\u001b[0m\u001b[0mrun\u001b[0m\u001b[0;34m(\u001b[0m\u001b[0;34m[\u001b[0m\u001b[0mself\u001b[0m\u001b[0;34m.\u001b[0m\u001b[0mop_train\u001b[0m\u001b[0;34m,\u001b[0m \u001b[0mself\u001b[0m\u001b[0;34m.\u001b[0m\u001b[0mop_loss_average\u001b[0m\u001b[0;34m]\u001b[0m\u001b[0;34m,\u001b[0m \u001b[0mfeed_dict\u001b[0m\u001b[0;34m)\u001b[0m\u001b[0;34m\u001b[0m\u001b[0;34m\u001b[0m\u001b[0m\n\u001b[0m\u001b[1;32m    110\u001b[0m \u001b[0;34m\u001b[0m\u001b[0m\n\u001b[1;32m    111\u001b[0m             \u001b[0;31m# Periodical evaluation of the model.\u001b[0m\u001b[0;34m\u001b[0m\u001b[0;34m\u001b[0m\u001b[0;34m\u001b[0m\u001b[0m\n",
      "\u001b[0;32m/opt/anaconda3/envs/pr/lib/python3.8/site-packages/tensorflow/python/client/session.py\u001b[0m in \u001b[0;36mrun\u001b[0;34m(self, fetches, feed_dict, options, run_metadata)\u001b[0m\n\u001b[1;32m    764\u001b[0m \u001b[0;34m\u001b[0m\u001b[0m\n\u001b[1;32m    765\u001b[0m     \u001b[0;32mtry\u001b[0m\u001b[0;34m:\u001b[0m\u001b[0;34m\u001b[0m\u001b[0;34m\u001b[0m\u001b[0m\n\u001b[0;32m--> 766\u001b[0;31m       result = self._run(None, fetches, feed_dict, options_ptr,\n\u001b[0m\u001b[1;32m    767\u001b[0m                          run_metadata_ptr)\n\u001b[1;32m    768\u001b[0m       \u001b[0;32mif\u001b[0m \u001b[0mrun_metadata\u001b[0m\u001b[0;34m:\u001b[0m\u001b[0;34m\u001b[0m\u001b[0;34m\u001b[0m\u001b[0m\n",
      "\u001b[0;32m/opt/anaconda3/envs/pr/lib/python3.8/site-packages/tensorflow/python/client/session.py\u001b[0m in \u001b[0;36m_run\u001b[0;34m(self, handle, fetches, feed_dict, options, run_metadata)\u001b[0m\n\u001b[1;32m    962\u001b[0m     \u001b[0mfinal_targets\u001b[0m \u001b[0;34m=\u001b[0m \u001b[0mfetch_handler\u001b[0m\u001b[0;34m.\u001b[0m\u001b[0mtargets\u001b[0m\u001b[0;34m(\u001b[0m\u001b[0;34m)\u001b[0m\u001b[0;34m\u001b[0m\u001b[0;34m\u001b[0m\u001b[0m\n\u001b[1;32m    963\u001b[0m     \u001b[0;32mif\u001b[0m \u001b[0mfinal_fetches\u001b[0m \u001b[0;32mor\u001b[0m \u001b[0mfinal_targets\u001b[0m\u001b[0;34m:\u001b[0m\u001b[0;34m\u001b[0m\u001b[0;34m\u001b[0m\u001b[0m\n\u001b[0;32m--> 964\u001b[0;31m       results = self._do_run(handle, final_targets, final_fetches,\n\u001b[0m\u001b[1;32m    965\u001b[0m                              feed_dict_string, options, run_metadata)\n\u001b[1;32m    966\u001b[0m     \u001b[0;32melse\u001b[0m\u001b[0;34m:\u001b[0m\u001b[0;34m\u001b[0m\u001b[0;34m\u001b[0m\u001b[0m\n",
      "\u001b[0;32m/opt/anaconda3/envs/pr/lib/python3.8/site-packages/tensorflow/python/client/session.py\u001b[0m in \u001b[0;36m_do_run\u001b[0;34m(self, handle, target_list, fetch_list, feed_dict, options, run_metadata)\u001b[0m\n\u001b[1;32m   1012\u001b[0m \u001b[0;34m\u001b[0m\u001b[0m\n\u001b[1;32m   1013\u001b[0m     \u001b[0;32mif\u001b[0m \u001b[0mhandle\u001b[0m \u001b[0;32mis\u001b[0m \u001b[0;32mNone\u001b[0m\u001b[0;34m:\u001b[0m\u001b[0;34m\u001b[0m\u001b[0;34m\u001b[0m\u001b[0m\n\u001b[0;32m-> 1014\u001b[0;31m       return self._do_call(_run_fn, self._session, feed_dict, fetch_list,\n\u001b[0m\u001b[1;32m   1015\u001b[0m                            target_list, options, run_metadata)\n\u001b[1;32m   1016\u001b[0m     \u001b[0;32melse\u001b[0m\u001b[0;34m:\u001b[0m\u001b[0;34m\u001b[0m\u001b[0;34m\u001b[0m\u001b[0m\n",
      "\u001b[0;32m/opt/anaconda3/envs/pr/lib/python3.8/site-packages/tensorflow/python/client/session.py\u001b[0m in \u001b[0;36m_do_call\u001b[0;34m(self, fn, *args)\u001b[0m\n\u001b[1;32m   1020\u001b[0m   \u001b[0;32mdef\u001b[0m \u001b[0m_do_call\u001b[0m\u001b[0;34m(\u001b[0m\u001b[0mself\u001b[0m\u001b[0;34m,\u001b[0m \u001b[0mfn\u001b[0m\u001b[0;34m,\u001b[0m \u001b[0;34m*\u001b[0m\u001b[0margs\u001b[0m\u001b[0;34m)\u001b[0m\u001b[0;34m:\u001b[0m\u001b[0;34m\u001b[0m\u001b[0;34m\u001b[0m\u001b[0m\n\u001b[1;32m   1021\u001b[0m     \u001b[0;32mtry\u001b[0m\u001b[0;34m:\u001b[0m\u001b[0;34m\u001b[0m\u001b[0;34m\u001b[0m\u001b[0m\n\u001b[0;32m-> 1022\u001b[0;31m       \u001b[0;32mreturn\u001b[0m \u001b[0mfn\u001b[0m\u001b[0;34m(\u001b[0m\u001b[0;34m*\u001b[0m\u001b[0margs\u001b[0m\u001b[0;34m)\u001b[0m\u001b[0;34m\u001b[0m\u001b[0;34m\u001b[0m\u001b[0m\n\u001b[0m\u001b[1;32m   1023\u001b[0m     \u001b[0;32mexcept\u001b[0m \u001b[0merrors\u001b[0m\u001b[0;34m.\u001b[0m\u001b[0mOpError\u001b[0m \u001b[0;32mas\u001b[0m \u001b[0me\u001b[0m\u001b[0;34m:\u001b[0m\u001b[0;34m\u001b[0m\u001b[0;34m\u001b[0m\u001b[0m\n\u001b[1;32m   1024\u001b[0m       \u001b[0mmessage\u001b[0m \u001b[0;34m=\u001b[0m \u001b[0mcompat\u001b[0m\u001b[0;34m.\u001b[0m\u001b[0mas_text\u001b[0m\u001b[0;34m(\u001b[0m\u001b[0me\u001b[0m\u001b[0;34m.\u001b[0m\u001b[0mmessage\u001b[0m\u001b[0;34m)\u001b[0m\u001b[0;34m\u001b[0m\u001b[0;34m\u001b[0m\u001b[0m\n",
      "\u001b[0;32m/opt/anaconda3/envs/pr/lib/python3.8/site-packages/tensorflow/python/client/session.py\u001b[0m in \u001b[0;36m_run_fn\u001b[0;34m(session, feed_dict, fetch_list, target_list, options, run_metadata)\u001b[0m\n\u001b[1;32m   1000\u001b[0m       \u001b[0mself\u001b[0m\u001b[0;34m.\u001b[0m\u001b[0m_extend_graph\u001b[0m\u001b[0;34m(\u001b[0m\u001b[0;34m)\u001b[0m\u001b[0;34m\u001b[0m\u001b[0;34m\u001b[0m\u001b[0m\n\u001b[1;32m   1001\u001b[0m       \u001b[0;32mwith\u001b[0m \u001b[0merrors\u001b[0m\u001b[0;34m.\u001b[0m\u001b[0mraise_exception_on_not_ok_status\u001b[0m\u001b[0;34m(\u001b[0m\u001b[0;34m)\u001b[0m \u001b[0;32mas\u001b[0m \u001b[0mstatus\u001b[0m\u001b[0;34m:\u001b[0m\u001b[0;34m\u001b[0m\u001b[0;34m\u001b[0m\u001b[0m\n\u001b[0;32m-> 1002\u001b[0;31m         return tf_session.TF_Run(session, options,\n\u001b[0m\u001b[1;32m   1003\u001b[0m                                  \u001b[0mfeed_dict\u001b[0m\u001b[0;34m,\u001b[0m \u001b[0mfetch_list\u001b[0m\u001b[0;34m,\u001b[0m \u001b[0mtarget_list\u001b[0m\u001b[0;34m,\u001b[0m\u001b[0;34m\u001b[0m\u001b[0;34m\u001b[0m\u001b[0m\n\u001b[1;32m   1004\u001b[0m                                  status, run_metadata)\n",
      "\u001b[0;31mKeyboardInterrupt\u001b[0m: "
     ]
    }
   ],
   "source": [
    "model = models.cgcnn(L, **params)\n",
    "accuracy, loss, t_step = model.fit(X_train, y_train, X_val, y_val)"
   ]
  },
  {
   "cell_type": "markdown",
   "id": "7df4486c",
   "metadata": {},
   "source": [
    "## Create graph as in usage.ipynb"
   ]
  },
  {
   "cell_type": "code",
   "execution_count": null,
   "id": "e0b59e5f",
   "metadata": {},
   "outputs": [],
   "source": [
    "dist, idx = graph.distance_scipy_spatial(X_train.T, k=2, metric='euclidean')\n",
    "A = graph.adjacency(dist, idx).astype(np.float32)\n",
    "\n",
    "plt.spy(A, markersize=2, color='black');"
   ]
  },
  {
   "cell_type": "code",
   "execution_count": null,
   "id": "1040fcd3",
   "metadata": {},
   "outputs": [],
   "source": [
    "graphs, perm = coarsening.coarsen(A, levels=7, self_connections=False)\n",
    "\n",
    "X_train = coarsening.perm_data(X_train, perm)"
   ]
  },
  {
   "cell_type": "code",
   "execution_count": null,
   "id": "a9b03cb6",
   "metadata": {
    "scrolled": true
   },
   "outputs": [],
   "source": [
    "L = [graph.laplacian(A, normalized=True) for A in graphs]\n",
    "graph.plot_spectrum(L)"
   ]
  }
 ],
 "metadata": {
  "kernelspec": {
   "display_name": "Python 3 (ipykernel)",
   "language": "python",
   "name": "python3"
  },
  "language_info": {
   "codemirror_mode": {
    "name": "ipython",
    "version": 3
   },
   "file_extension": ".py",
   "mimetype": "text/x-python",
   "name": "python",
   "nbconvert_exporter": "python",
   "pygments_lexer": "ipython3",
   "version": "3.8.10"
  }
 },
 "nbformat": 4,
 "nbformat_minor": 5
}
